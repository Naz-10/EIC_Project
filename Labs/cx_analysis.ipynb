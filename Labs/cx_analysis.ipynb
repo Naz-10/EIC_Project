{
 "cells": [
  {
   "cell_type": "markdown",
   "metadata": {},
   "source": [
    "# Customer Experience Optimization Analysis - StyleForward Retail\n",
    "\n",
    "## Overview\n",
    "This notebook analyzes customer touchpoints, transactions, and behavioral data to identify friction points in the customer experience journey. We'll uncover hidden patterns that reveal why StyleForward is losing $31.2M annually despite apparently healthy conversion metrics.\n",
    "\n",
    "### Key Questions to Answer:\n",
    "1. Where are the critical friction points causing customer abandonment?\n",
    "2. How does experience differ between mobile and desktop users?\n",
    "3. Why do social media channels show 0% conversion despite heavy investment?\n",
    "4. What patterns exist in successful vs failed customer journeys?\n",
    "5. How can we quantify the revenue impact of experience gaps?"
   ]
  },
  {
   "cell_type": "markdown",
   "metadata": {},
   "source": [
    "## Section 1: Data Ingestion\n",
    "Loading all necessary datasets for the customer experience analysis."
   ]
  },
  {
   "cell_type": "code",
   "execution_count": 31,
   "metadata": {},
   "outputs": [
    {
     "name": "stdout",
     "output_type": "stream",
     "text": [
      "Libraries imported successfully!\n"
     ]
    }
   ],
   "source": [
    "# Import required libraries\n",
    "import pandas as pd\n",
    "import numpy as np\n",
    "import matplotlib.pyplot as plt\n",
    "import seaborn as sns\n",
    "from datetime import datetime, timedelta\n",
    "import warnings\n",
    "warnings.filterwarnings('ignore')\n",
    "\n",
    "# Set display options\n",
    "pd.set_option('display.max_columns', None)\n",
    "pd.set_option('display.max_rows', 100)\n",
    "pd.set_option('display.float_format', '{:.2f}'.format)\n",
    "\n",
    "# Set style for visualizations\n",
    "plt.style.use('seaborn-v0_8-darkgrid')\n",
    "sns.set_palette('husl')\n",
    "\n",
    "print(\"Libraries imported successfully!\")"
   ]
  },
  {
   "cell_type": "code",
   "execution_count": 32,
   "metadata": {},
   "outputs": [
    {
     "name": "stdout",
     "output_type": "stream",
     "text": [
      "All datasets loaded successfully!\n",
      "\n",
      "Dataset shapes:\n",
      "  Customers: (32, 13)\n",
      "  Customer Touchpoints: (27, 17)\n"
     ]
    }
   ],
   "source": [
    "# Load all CSV files\n",
    "try:\n",
    "    # Core datasets for CX analysis\n",
    "    customers = pd.read_csv('https://raw.githubusercontent.com/jimcody2014/eic/refs/heads/main/customers.csv')\n",
    "    touchpoints = pd.read_csv('https://raw.githubusercontent.com/jimcody2014/eic/refs/heads/main/customer_touchpoints.csv')\n",
    "    stores = pd.read_csv('https://raw.githubusercontent.com/jimcody2014/eic/refs/heads/main/stores.csv')\n",
    "    products = pd.read_csv('https://raw.githubusercontent.com/jimcody2014/eic/refs/heads/main/products.csv')\n",
    "\n",
    "    print(\"All datasets loaded successfully!\")\n",
    "    print(\"\\nDataset shapes:\")\n",
    "    print(f\"  Customers: {customers.shape}\")    \n",
    "    print(f\"  Customer Touchpoints: {touchpoints.shape}\")\n",
    " \n",
    "except FileNotFoundError as e:\n",
    "    print(f\"Error loading files: {e}\")\n",
    "    print(\"Please ensure all CSV files are in the current directory.\")"
   ]
  },
  {
   "cell_type": "code",
   "execution_count": 33,
   "metadata": {},
   "outputs": [
    {
     "data": {
      "text/html": [
       "<div>\n",
       "<style scoped>\n",
       "    .dataframe tbody tr th:only-of-type {\n",
       "        vertical-align: middle;\n",
       "    }\n",
       "\n",
       "    .dataframe tbody tr th {\n",
       "        vertical-align: top;\n",
       "    }\n",
       "\n",
       "    .dataframe thead th {\n",
       "        text-align: right;\n",
       "    }\n",
       "</style>\n",
       "<table border=\"1\" class=\"dataframe\">\n",
       "  <thead>\n",
       "    <tr style=\"text-align: right;\">\n",
       "      <th></th>\n",
       "      <th>customer_id</th>\n",
       "      <th>first_name</th>\n",
       "      <th>last_name</th>\n",
       "      <th>email</th>\n",
       "      <th>city</th>\n",
       "      <th>state</th>\n",
       "      <th>age</th>\n",
       "      <th>gender</th>\n",
       "      <th>customer_segment</th>\n",
       "      <th>acquisition_date</th>\n",
       "      <th>acquisition_channel</th>\n",
       "      <th>lifetime_value</th>\n",
       "      <th>churn_risk</th>\n",
       "    </tr>\n",
       "  </thead>\n",
       "  <tbody>\n",
       "    <tr>\n",
       "      <th>0</th>\n",
       "      <td>1001</td>\n",
       "      <td>Emily</td>\n",
       "      <td>Johnson</td>\n",
       "      <td>emily.j@email.com</td>\n",
       "      <td>Austin</td>\n",
       "      <td>TX</td>\n",
       "      <td>28</td>\n",
       "      <td>0</td>\n",
       "      <td>Occasional</td>\n",
       "      <td>3/15/22</td>\n",
       "      <td>Social Media</td>\n",
       "      <td>892.50</td>\n",
       "      <td>Low</td>\n",
       "    </tr>\n",
       "    <tr>\n",
       "      <th>1</th>\n",
       "      <td>1002</td>\n",
       "      <td>Michael</td>\n",
       "      <td>Chen</td>\n",
       "      <td>m.chen@email.com</td>\n",
       "      <td>Dallas</td>\n",
       "      <td>TX</td>\n",
       "      <td>35</td>\n",
       "      <td>M</td>\n",
       "      <td>High-Value</td>\n",
       "      <td>1/20/21</td>\n",
       "      <td>Google</td>\n",
       "      <td>4587.30</td>\n",
       "      <td>Low</td>\n",
       "    </tr>\n",
       "    <tr>\n",
       "      <th>2</th>\n",
       "      <td>1003</td>\n",
       "      <td>Sarah</td>\n",
       "      <td>Williams</td>\n",
       "      <td>sarah.w@email.com</td>\n",
       "      <td>Houston</td>\n",
       "      <td>TX</td>\n",
       "      <td>42</td>\n",
       "      <td>F</td>\n",
       "      <td>Frequent</td>\n",
       "      <td>6/10/21</td>\n",
       "      <td>Email</td>\n",
       "      <td>2245.80</td>\n",
       "      <td>Medium</td>\n",
       "    </tr>\n",
       "    <tr>\n",
       "      <th>3</th>\n",
       "      <td>1004</td>\n",
       "      <td>James</td>\n",
       "      <td>Davis</td>\n",
       "      <td>james.d@email.com</td>\n",
       "      <td>San Antonio</td>\n",
       "      <td>TX</td>\n",
       "      <td>31</td>\n",
       "      <td>M</td>\n",
       "      <td>Occasional</td>\n",
       "      <td>2/28/23</td>\n",
       "      <td>Direct</td>\n",
       "      <td>445.60</td>\n",
       "      <td>High</td>\n",
       "    </tr>\n",
       "    <tr>\n",
       "      <th>4</th>\n",
       "      <td>1005</td>\n",
       "      <td>Maria</td>\n",
       "      <td>Garcia</td>\n",
       "      <td>maria.g@email.com</td>\n",
       "      <td>Austin</td>\n",
       "      <td>TX</td>\n",
       "      <td>26</td>\n",
       "      <td>F</td>\n",
       "      <td>New</td>\n",
       "      <td>1/5/24</td>\n",
       "      <td>Instagram</td>\n",
       "      <td>125.40</td>\n",
       "      <td>Medium</td>\n",
       "    </tr>\n",
       "  </tbody>\n",
       "</table>\n",
       "</div>"
      ],
      "text/plain": [
       "   customer_id first_name last_name              email         city state  \\\n",
       "0         1001      Emily   Johnson  emily.j@email.com       Austin    TX   \n",
       "1         1002    Michael      Chen   m.chen@email.com       Dallas    TX   \n",
       "2         1003      Sarah  Williams  sarah.w@email.com      Houston    TX   \n",
       "3         1004      James     Davis  james.d@email.com  San Antonio    TX   \n",
       "4         1005      Maria    Garcia  maria.g@email.com       Austin    TX   \n",
       "\n",
       "   age gender customer_segment acquisition_date acquisition_channel  \\\n",
       "0   28      0       Occasional          3/15/22        Social Media   \n",
       "1   35      M       High-Value          1/20/21              Google   \n",
       "2   42      F         Frequent          6/10/21               Email   \n",
       "3   31      M       Occasional          2/28/23              Direct   \n",
       "4   26      F              New           1/5/24           Instagram   \n",
       "\n",
       "   lifetime_value churn_risk  \n",
       "0          892.50        Low  \n",
       "1         4587.30        Low  \n",
       "2         2245.80     Medium  \n",
       "3          445.60       High  \n",
       "4          125.40     Medium  "
      ]
     },
     "execution_count": 33,
     "metadata": {},
     "output_type": "execute_result"
    }
   ],
   "source": [
    "customers.head()"
   ]
  },
  {
   "cell_type": "code",
   "execution_count": 34,
   "metadata": {},
   "outputs": [
    {
     "data": {
      "text/html": [
       "<div>\n",
       "<style scoped>\n",
       "    .dataframe tbody tr th:only-of-type {\n",
       "        vertical-align: middle;\n",
       "    }\n",
       "\n",
       "    .dataframe tbody tr th {\n",
       "        vertical-align: top;\n",
       "    }\n",
       "\n",
       "    .dataframe thead th {\n",
       "        text-align: right;\n",
       "    }\n",
       "</style>\n",
       "<table border=\"1\" class=\"dataframe\">\n",
       "  <thead>\n",
       "    <tr style=\"text-align: right;\">\n",
       "      <th></th>\n",
       "      <th>touchpoint_id</th>\n",
       "      <th>customer_id</th>\n",
       "      <th>session_id</th>\n",
       "      <th>touchpoint_timestamp</th>\n",
       "      <th>touchpoint_type</th>\n",
       "      <th>channel</th>\n",
       "      <th>campaign_id</th>\n",
       "      <th>referrer_source</th>\n",
       "      <th>landing_page</th>\n",
       "      <th>pages_viewed</th>\n",
       "      <th>products_viewed</th>\n",
       "      <th>cart_additions</th>\n",
       "      <th>cart_value</th>\n",
       "      <th>converted_flag</th>\n",
       "      <th>transaction_id</th>\n",
       "      <th>device_type</th>\n",
       "      <th>store_id</th>\n",
       "    </tr>\n",
       "  </thead>\n",
       "  <tbody>\n",
       "    <tr>\n",
       "      <th>0</th>\n",
       "      <td>6001</td>\n",
       "      <td>1001</td>\n",
       "      <td>sess_1001_01</td>\n",
       "      <td>1/3/24 9:00</td>\n",
       "      <td>Ad Click</td>\n",
       "      <td>Instagram</td>\n",
       "      <td>101.00</td>\n",
       "      <td>instagram.com</td>\n",
       "      <td>/spring-collection</td>\n",
       "      <td>5.00</td>\n",
       "      <td>[2001, 2002, 2005]</td>\n",
       "      <td>0</td>\n",
       "      <td>0.00</td>\n",
       "      <td>False</td>\n",
       "      <td>NaN</td>\n",
       "      <td>Mobile</td>\n",
       "      <td>NaN</td>\n",
       "    </tr>\n",
       "    <tr>\n",
       "      <th>1</th>\n",
       "      <td>6002</td>\n",
       "      <td>1001</td>\n",
       "      <td>sess_1001_02</td>\n",
       "      <td>1/4/24 19:30</td>\n",
       "      <td>Web Visit</td>\n",
       "      <td>Direct</td>\n",
       "      <td>NaN</td>\n",
       "      <td>direct</td>\n",
       "      <td>/home</td>\n",
       "      <td>8.00</td>\n",
       "      <td>[2001, 2003, 2007, 2009]</td>\n",
       "      <td>2</td>\n",
       "      <td>99.98</td>\n",
       "      <td>False</td>\n",
       "      <td>NaN</td>\n",
       "      <td>Mobile</td>\n",
       "      <td>NaN</td>\n",
       "    </tr>\n",
       "    <tr>\n",
       "      <th>2</th>\n",
       "      <td>6003</td>\n",
       "      <td>1001</td>\n",
       "      <td>sess_1001_03</td>\n",
       "      <td>1/5/24 10:25</td>\n",
       "      <td>Web Visit</td>\n",
       "      <td>Email</td>\n",
       "      <td>103.00</td>\n",
       "      <td>email</td>\n",
       "      <td>/sale</td>\n",
       "      <td>3.00</td>\n",
       "      <td>[2001, 2003, 2007]</td>\n",
       "      <td>3</td>\n",
       "      <td>189.97</td>\n",
       "      <td>True</td>\n",
       "      <td>4001.00</td>\n",
       "      <td>Mobile</td>\n",
       "      <td>NaN</td>\n",
       "    </tr>\n",
       "    <tr>\n",
       "      <th>3</th>\n",
       "      <td>6004</td>\n",
       "      <td>1003</td>\n",
       "      <td>sess_1003_01</td>\n",
       "      <td>1/7/24 14:00</td>\n",
       "      <td>Email Open</td>\n",
       "      <td>Email</td>\n",
       "      <td>103.00</td>\n",
       "      <td>gmail.com</td>\n",
       "      <td>NaN</td>\n",
       "      <td>NaN</td>\n",
       "      <td>NaN</td>\n",
       "      <td>0</td>\n",
       "      <td>0.00</td>\n",
       "      <td>False</td>\n",
       "      <td>NaN</td>\n",
       "      <td>Mobile</td>\n",
       "      <td>NaN</td>\n",
       "    </tr>\n",
       "    <tr>\n",
       "      <th>4</th>\n",
       "      <td>6005</td>\n",
       "      <td>1003</td>\n",
       "      <td>sess_1003_02</td>\n",
       "      <td>1/8/24 11:15</td>\n",
       "      <td>Web Visit</td>\n",
       "      <td>Email</td>\n",
       "      <td>103.00</td>\n",
       "      <td>email</td>\n",
       "      <td>/new-arrivals</td>\n",
       "      <td>4.00</td>\n",
       "      <td>[2009, 2006]</td>\n",
       "      <td>1</td>\n",
       "      <td>149.99</td>\n",
       "      <td>True</td>\n",
       "      <td>4003.00</td>\n",
       "      <td>Desktop</td>\n",
       "      <td>NaN</td>\n",
       "    </tr>\n",
       "  </tbody>\n",
       "</table>\n",
       "</div>"
      ],
      "text/plain": [
       "   touchpoint_id  customer_id    session_id touchpoint_timestamp  \\\n",
       "0           6001         1001  sess_1001_01          1/3/24 9:00   \n",
       "1           6002         1001  sess_1001_02         1/4/24 19:30   \n",
       "2           6003         1001  sess_1001_03         1/5/24 10:25   \n",
       "3           6004         1003  sess_1003_01         1/7/24 14:00   \n",
       "4           6005         1003  sess_1003_02         1/8/24 11:15   \n",
       "\n",
       "  touchpoint_type    channel  campaign_id referrer_source        landing_page  \\\n",
       "0        Ad Click  Instagram       101.00   instagram.com  /spring-collection   \n",
       "1       Web Visit     Direct          NaN          direct               /home   \n",
       "2       Web Visit      Email       103.00           email               /sale   \n",
       "3      Email Open      Email       103.00       gmail.com                 NaN   \n",
       "4       Web Visit      Email       103.00           email       /new-arrivals   \n",
       "\n",
       "   pages_viewed           products_viewed  cart_additions  cart_value  \\\n",
       "0          5.00        [2001, 2002, 2005]               0        0.00   \n",
       "1          8.00  [2001, 2003, 2007, 2009]               2       99.98   \n",
       "2          3.00        [2001, 2003, 2007]               3      189.97   \n",
       "3           NaN                       NaN               0        0.00   \n",
       "4          4.00              [2009, 2006]               1      149.99   \n",
       "\n",
       "   converted_flag  transaction_id device_type  store_id  \n",
       "0           False             NaN      Mobile       NaN  \n",
       "1           False             NaN      Mobile       NaN  \n",
       "2            True         4001.00      Mobile       NaN  \n",
       "3           False             NaN      Mobile       NaN  \n",
       "4            True         4003.00     Desktop       NaN  "
      ]
     },
     "execution_count": 34,
     "metadata": {},
     "output_type": "execute_result"
    }
   ],
   "source": [
    "touchpoints.head()"
   ]
  },
  {
   "cell_type": "markdown",
   "metadata": {},
   "source": [
    "### Quick Exercise (5 minutes)\n",
    "\n",
    "1. Read in the transactions data. Name the df *transactions*.\n",
    "2. Identify the number of rows and columns\n",
    "3. Display the first **10** row\n",
    "\n",
    "https://raw.githubusercontent.com/jimcody2014/eic/refs/heads/main/transactions.csv"
   ]
  },
  {
   "cell_type": "code",
   "execution_count": 35,
   "metadata": {},
   "outputs": [],
   "source": [
    "# Add customer transactions\n",
    "import pandas as pd\n",
    "transactions = pd.read_csv(\"C:\\\\Labs\\\\Resources\\\\team-project\\\\transactions.csv\")"
   ]
  },
  {
   "cell_type": "code",
   "execution_count": 36,
   "metadata": {},
   "outputs": [
    {
     "data": {
      "text/plain": [
       "(45, 16)"
      ]
     },
     "execution_count": 36,
     "metadata": {},
     "output_type": "execute_result"
    }
   ],
   "source": [
    "# transactionss shape\n",
    "transactions.shape\n"
   ]
  },
  {
   "cell_type": "code",
   "execution_count": 37,
   "metadata": {},
   "outputs": [
    {
     "data": {
      "text/html": [
       "<div>\n",
       "<style scoped>\n",
       "    .dataframe tbody tr th:only-of-type {\n",
       "        vertical-align: middle;\n",
       "    }\n",
       "\n",
       "    .dataframe tbody tr th {\n",
       "        vertical-align: top;\n",
       "    }\n",
       "\n",
       "    .dataframe thead th {\n",
       "        text-align: right;\n",
       "    }\n",
       "</style>\n",
       "<table border=\"1\" class=\"dataframe\">\n",
       "  <thead>\n",
       "    <tr style=\"text-align: right;\">\n",
       "      <th></th>\n",
       "      <th>transaction_id</th>\n",
       "      <th>customer_id</th>\n",
       "      <th>order_date</th>\n",
       "      <th>channel</th>\n",
       "      <th>store_id</th>\n",
       "      <th>payment_method</th>\n",
       "      <th>card_bank</th>\n",
       "      <th>subtotal</th>\n",
       "      <th>discount_amount</th>\n",
       "      <th>tax_amount</th>\n",
       "      <th>shipping_amount</th>\n",
       "      <th>total_amount</th>\n",
       "      <th>promo_code_used</th>\n",
       "      <th>device_type</th>\n",
       "      <th>fulfillment_method</th>\n",
       "      <th>return_flag</th>\n",
       "    </tr>\n",
       "  </thead>\n",
       "  <tbody>\n",
       "    <tr>\n",
       "      <th>0</th>\n",
       "      <td>4001</td>\n",
       "      <td>1001</td>\n",
       "      <td>1/5/24 10:30</td>\n",
       "      <td>Online</td>\n",
       "      <td>NaN</td>\n",
       "      <td>Credit Card</td>\n",
       "      <td>Chase</td>\n",
       "      <td>189.97</td>\n",
       "      <td>20.00</td>\n",
       "      <td>15.20</td>\n",
       "      <td>0.00</td>\n",
       "      <td>185.17</td>\n",
       "      <td>SPRING24</td>\n",
       "      <td>Mobile</td>\n",
       "      <td>Ship</td>\n",
       "      <td>False</td>\n",
       "    </tr>\n",
       "    <tr>\n",
       "      <th>1</th>\n",
       "      <td>4002</td>\n",
       "      <td>1001</td>\n",
       "      <td>1/12/24 14:45</td>\n",
       "      <td>Store</td>\n",
       "      <td>3002.00</td>\n",
       "      <td>Credit Cards</td>\n",
       "      <td>Citi</td>\n",
       "      <td>299.96</td>\n",
       "      <td>0.00</td>\n",
       "      <td>24.00</td>\n",
       "      <td>0.00</td>\n",
       "      <td>323.96</td>\n",
       "      <td>NaN</td>\n",
       "      <td>NaN</td>\n",
       "      <td>In-Store</td>\n",
       "      <td>False</td>\n",
       "    </tr>\n",
       "    <tr>\n",
       "      <th>2</th>\n",
       "      <td>4003</td>\n",
       "      <td>1003</td>\n",
       "      <td>1/8/24 11:20</td>\n",
       "      <td>Online</td>\n",
       "      <td>NaN</td>\n",
       "      <td>PayPal</td>\n",
       "      <td>NaN</td>\n",
       "      <td>149.99</td>\n",
       "      <td>15.00</td>\n",
       "      <td>11.20</td>\n",
       "      <td>5.99</td>\n",
       "      <td>151.18</td>\n",
       "      <td>WELCOME10</td>\n",
       "      <td>Desktop</td>\n",
       "      <td>Ship</td>\n",
       "      <td>False</td>\n",
       "    </tr>\n",
       "    <tr>\n",
       "      <th>3</th>\n",
       "      <td>4004</td>\n",
       "      <td>1003</td>\n",
       "      <td>1/15/24 16:00</td>\n",
       "      <td>Mobile App</td>\n",
       "      <td>NaN</td>\n",
       "      <td>Apple Pay</td>\n",
       "      <td>NaN</td>\n",
       "      <td>69.99</td>\n",
       "      <td>0.00</td>\n",
       "      <td>5.60</td>\n",
       "      <td>0.00</td>\n",
       "      <td>75.59</td>\n",
       "      <td>NaN</td>\n",
       "      <td>Mobile</td>\n",
       "      <td>BOPIS</td>\n",
       "      <td>False</td>\n",
       "    </tr>\n",
       "    <tr>\n",
       "      <th>4</th>\n",
       "      <td>4005</td>\n",
       "      <td>1002</td>\n",
       "      <td>1/7/24 13:30</td>\n",
       "      <td>Store</td>\n",
       "      <td>3001.00</td>\n",
       "      <td>credit card</td>\n",
       "      <td>NaN</td>\n",
       "      <td>79.99</td>\n",
       "      <td>0.00</td>\n",
       "      <td>6.40</td>\n",
       "      <td>0.00</td>\n",
       "      <td>86.39</td>\n",
       "      <td>NaN</td>\n",
       "      <td>NaN</td>\n",
       "      <td>In-Store</td>\n",
       "      <td>False</td>\n",
       "    </tr>\n",
       "  </tbody>\n",
       "</table>\n",
       "</div>"
      ],
      "text/plain": [
       "   transaction_id  customer_id     order_date     channel  store_id  \\\n",
       "0            4001         1001   1/5/24 10:30      Online       NaN   \n",
       "1            4002         1001  1/12/24 14:45       Store   3002.00   \n",
       "2            4003         1003   1/8/24 11:20      Online       NaN   \n",
       "3            4004         1003  1/15/24 16:00  Mobile App       NaN   \n",
       "4            4005         1002   1/7/24 13:30       Store   3001.00   \n",
       "\n",
       "  payment_method card_bank  subtotal  discount_amount  tax_amount  \\\n",
       "0    Credit Card     Chase    189.97            20.00       15.20   \n",
       "1   Credit Cards      Citi    299.96             0.00       24.00   \n",
       "2         PayPal       NaN    149.99            15.00       11.20   \n",
       "3      Apple Pay       NaN     69.99             0.00        5.60   \n",
       "4    credit card       NaN     79.99             0.00        6.40   \n",
       "\n",
       "   shipping_amount  total_amount promo_code_used device_type  \\\n",
       "0             0.00        185.17        SPRING24      Mobile   \n",
       "1             0.00        323.96             NaN         NaN   \n",
       "2             5.99        151.18       WELCOME10     Desktop   \n",
       "3             0.00         75.59             NaN      Mobile   \n",
       "4             0.00         86.39             NaN         NaN   \n",
       "\n",
       "  fulfillment_method  return_flag  \n",
       "0               Ship        False  \n",
       "1           In-Store        False  \n",
       "2               Ship        False  \n",
       "3              BOPIS        False  \n",
       "4           In-Store        False  "
      ]
     },
     "execution_count": 37,
     "metadata": {},
     "output_type": "execute_result"
    }
   ],
   "source": [
    "# transactions first 10 rows\n",
    "transactions.head()"
   ]
  },
  {
   "cell_type": "markdown",
   "metadata": {},
   "source": [
    "## Section 2: Data Cleaning\n",
    "Identifying and resolving data quality issues including duplicates, missing values, incorrect data types, and inconsistencies."
   ]
  },
  {
   "cell_type": "markdown",
   "metadata": {},
   "source": [
    "### Check for Duplicates"
   ]
  },
  {
   "cell_type": "code",
   "execution_count": 38,
   "metadata": {},
   "outputs": [
    {
     "data": {
      "text/html": [
       "<div>\n",
       "<style scoped>\n",
       "    .dataframe tbody tr th:only-of-type {\n",
       "        vertical-align: middle;\n",
       "    }\n",
       "\n",
       "    .dataframe tbody tr th {\n",
       "        vertical-align: top;\n",
       "    }\n",
       "\n",
       "    .dataframe thead th {\n",
       "        text-align: right;\n",
       "    }\n",
       "</style>\n",
       "<table border=\"1\" class=\"dataframe\">\n",
       "  <thead>\n",
       "    <tr style=\"text-align: right;\">\n",
       "      <th></th>\n",
       "      <th>customer_id</th>\n",
       "      <th>first_name</th>\n",
       "      <th>last_name</th>\n",
       "      <th>email</th>\n",
       "      <th>city</th>\n",
       "      <th>state</th>\n",
       "      <th>age</th>\n",
       "      <th>gender</th>\n",
       "      <th>customer_segment</th>\n",
       "      <th>acquisition_date</th>\n",
       "      <th>acquisition_channel</th>\n",
       "      <th>lifetime_value</th>\n",
       "      <th>churn_risk</th>\n",
       "    </tr>\n",
       "  </thead>\n",
       "  <tbody>\n",
       "    <tr>\n",
       "      <th>30</th>\n",
       "      <td>1030</td>\n",
       "      <td>Eric</td>\n",
       "      <td>Young</td>\n",
       "      <td>eric.y@email.com</td>\n",
       "      <td>Houston</td>\n",
       "      <td>TX</td>\n",
       "      <td>46</td>\n",
       "      <td>M</td>\n",
       "      <td>Dormant</td>\n",
       "      <td>12/1/20</td>\n",
       "      <td>Email</td>\n",
       "      <td>267.90</td>\n",
       "      <td>High</td>\n",
       "    </tr>\n",
       "    <tr>\n",
       "      <th>31</th>\n",
       "      <td>1030</td>\n",
       "      <td>Eric</td>\n",
       "      <td>Young</td>\n",
       "      <td>eric.y@email.com</td>\n",
       "      <td>Houston</td>\n",
       "      <td>TX</td>\n",
       "      <td>46</td>\n",
       "      <td>M</td>\n",
       "      <td>Dormant</td>\n",
       "      <td>12/1/20</td>\n",
       "      <td>Email</td>\n",
       "      <td>267.90</td>\n",
       "      <td>High</td>\n",
       "    </tr>\n",
       "  </tbody>\n",
       "</table>\n",
       "</div>"
      ],
      "text/plain": [
       "    customer_id first_name last_name             email     city state  age  \\\n",
       "30         1030       Eric     Young  eric.y@email.com  Houston    TX   46   \n",
       "31         1030       Eric     Young  eric.y@email.com  Houston    TX   46   \n",
       "\n",
       "   gender customer_segment acquisition_date acquisition_channel  \\\n",
       "30      M          Dormant          12/1/20               Email   \n",
       "31      M          Dormant          12/1/20               Email   \n",
       "\n",
       "    lifetime_value churn_risk  \n",
       "30          267.90       High  \n",
       "31          267.90       High  "
      ]
     },
     "execution_count": 38,
     "metadata": {},
     "output_type": "execute_result"
    }
   ],
   "source": [
    "# checking for duplicates\n",
    "# .duplicated test to see if the entire row is a duplicate\n",
    "\n",
    "#transactions.loc[transactions.duplicated()]\n",
    "customers.loc[customers.duplicated()]"
   ]
  },
  {
   "cell_type": "code",
   "execution_count": 39,
   "metadata": {},
   "outputs": [
    {
     "data": {
      "text/html": [
       "<div>\n",
       "<style scoped>\n",
       "    .dataframe tbody tr th:only-of-type {\n",
       "        vertical-align: middle;\n",
       "    }\n",
       "\n",
       "    .dataframe tbody tr th {\n",
       "        vertical-align: top;\n",
       "    }\n",
       "\n",
       "    .dataframe thead th {\n",
       "        text-align: right;\n",
       "    }\n",
       "</style>\n",
       "<table border=\"1\" class=\"dataframe\">\n",
       "  <thead>\n",
       "    <tr style=\"text-align: right;\">\n",
       "      <th></th>\n",
       "      <th>customer_id</th>\n",
       "      <th>first_name</th>\n",
       "      <th>last_name</th>\n",
       "      <th>email</th>\n",
       "      <th>city</th>\n",
       "      <th>state</th>\n",
       "      <th>age</th>\n",
       "      <th>gender</th>\n",
       "      <th>customer_segment</th>\n",
       "      <th>acquisition_date</th>\n",
       "      <th>acquisition_channel</th>\n",
       "      <th>lifetime_value</th>\n",
       "      <th>churn_risk</th>\n",
       "    </tr>\n",
       "  </thead>\n",
       "  <tbody>\n",
       "  </tbody>\n",
       "</table>\n",
       "</div>"
      ],
      "text/plain": [
       "Empty DataFrame\n",
       "Columns: [customer_id, first_name, last_name, email, city, state, age, gender, customer_segment, acquisition_date, acquisition_channel, lifetime_value, churn_risk]\n",
       "Index: []"
      ]
     },
     "execution_count": 39,
     "metadata": {},
     "output_type": "execute_result"
    }
   ],
   "source": [
    "customers.drop_duplicates(keep = 'first', inplace = True) \n",
    "\n",
    "# keep - which duplicate to keep, default is none!\n",
    "\n",
    "customers.loc[customers.duplicated()]"
   ]
  },
  {
   "cell_type": "code",
   "execution_count": 40,
   "metadata": {},
   "outputs": [
    {
     "name": "stdout",
     "output_type": "stream",
     "text": [
      "Checking for duplicate rows:\n",
      "========================================\n",
      "customers: 0 duplicate rows\n",
      "  - Duplicate customer_ids: 0\n",
      "stores: 0 duplicate rows\n",
      "  - Duplicate store_ids: 0\n",
      "products: 0 duplicate rows\n"
     ]
    }
   ],
   "source": [
    "# Check for duplicate rows in multiple dataset\n",
    "# Example of automating the process\n",
    "\n",
    "datasets = {\n",
    "    'customers': customers,\n",
    "    'stores': stores,\n",
    "    'products': products\n",
    "}\n",
    "\n",
    "print(\"Checking for duplicate rows:\")\n",
    "print(\"=\"*40)\n",
    "for name, df in datasets.items():\n",
    "    duplicates = df.duplicated().sum()\n",
    "    print(f\"{name}: {duplicates} duplicate rows\")\n",
    "    \n",
    "    # Check for duplicates on key columns\n",
    "    if name == 'stores':\n",
    "        dup_store_ids = df['store_id'].duplicated().sum()\n",
    "        print(f\"  - Duplicate store_ids: {dup_store_ids}\")\n",
    "    elif name == 'transactions':\n",
    "        dup_transaction_ids = df['transaction_id'].duplicated().sum()\n",
    "        print(f\"  - Duplicate transaction_ids: {dup_transaction_ids}\")\n",
    "    elif name == 'customers':\n",
    "        dup_customer_ids = df['customer_id'].duplicated().sum()\n",
    "        print(f\"  - Duplicate customer_ids: {dup_customer_ids}\")\n",
    "\n",
    "# Remove any duplicates found\n",
    "for name, df in datasets.items():\n",
    "    before = len(df)\n",
    "    df.drop_duplicates(inplace=True)\n",
    "    after = len(df)\n",
    "    if before != after:\n",
    "        print(f\"\\nRemoved {before-after} duplicates from {name}\")"
   ]
  },
  {
   "cell_type": "markdown",
   "metadata": {},
   "source": [
    "### Find and Handle Missing Values"
   ]
  },
  {
   "cell_type": "markdown",
   "metadata": {},
   "source": [
    "### Examine Customers"
   ]
  },
  {
   "cell_type": "code",
   "execution_count": 41,
   "metadata": {},
   "outputs": [
    {
     "data": {
      "text/plain": [
       "customer_id            0\n",
       "first_name             0\n",
       "last_name              0\n",
       "email                  0\n",
       "city                   0\n",
       "state                  2\n",
       "age                    0\n",
       "gender                 0\n",
       "customer_segment       0\n",
       "acquisition_date       0\n",
       "acquisition_channel    0\n",
       "lifetime_value         1\n",
       "churn_risk             0\n",
       "dtype: int64"
      ]
     },
     "execution_count": 41,
     "metadata": {},
     "output_type": "execute_result"
    }
   ],
   "source": [
    "# Just listing the columns and how many rows \n",
    "# for each have a missing value.\n",
    "\n",
    "customers.isnull().sum()"
   ]
  },
  {
   "cell_type": "code",
   "execution_count": 42,
   "metadata": {},
   "outputs": [
    {
     "data": {
      "text/plain": [
       "state            6.67\n",
       "lifetime_value   3.33\n",
       "last_name        0.00\n",
       "first_name       0.00\n",
       "customer_id      0.00\n",
       "dtype: float64"
      ]
     },
     "execution_count": 42,
     "metadata": {},
     "output_type": "execute_result"
    }
   ],
   "source": [
    "customers_null = customers.isna().mean().round(4) * 100\n",
    "\n",
    "customers_null.sort_values(ascending=False).head()"
   ]
  },
  {
   "cell_type": "code",
   "execution_count": 43,
   "metadata": {},
   "outputs": [
    {
     "data": {
      "text/plain": [
       "<Axes: >"
      ]
     },
     "execution_count": 43,
     "metadata": {},
     "output_type": "execute_result"
    },
    {
     "data": {
      "image/png": "[encoded data removed]",
      "text/plain": [
       "<Figure size 640x480 with 1 Axes>"
      ]
     },
     "metadata": {},
     "output_type": "display_data"
    }
   ],
   "source": [
    "# Plotting missing values\n",
    "\n",
    "sns.heatmap(customers.isnull(), cbar=False)"
   ]
  },
  {
   "cell_type": "code",
   "execution_count": 44,
   "metadata": {},
   "outputs": [
    {
     "name": "stdout",
     "output_type": "stream",
     "text": [
      "count     29.00\n",
      "mean    2031.34\n",
      "std     1907.99\n",
      "min      125.40\n",
      "25%      423.50\n",
      "50%     1789.30\n",
      "75%     3567.20\n",
      "max     6234.90\n",
      "Name: lifetime_value, dtype: float64\n",
      "\n",
      "Median: 1789.3\n",
      "\n",
      "Mode: 0     125.40\n",
      "1     156.80\n",
      "2     189.90\n",
      "3     198.70\n",
      "4     215.60\n",
      "5     234.80\n",
      "6     267.90\n",
      "7     423.50\n",
      "8     445.60\n",
      "9     534.80\n",
      "10    623.70\n",
      "11    678.40\n",
      "12    756.30\n",
      "13    892.50\n",
      "14   1789.30\n",
      "15   1876.30\n",
      "16   2156.90\n",
      "17   2234.70\n",
      "18   2245.80\n",
      "19   2345.60\n",
      "20   2678.90\n",
      "21   3567.20\n",
      "22   3892.40\n",
      "23   4123.60\n",
      "24   4587.30\n",
      "25   4876.50\n",
      "26   5123.40\n",
      "27   5432.10\n",
      "28   6234.90\n",
      "Name: lifetime_value, dtype: float64\n"
     ]
    }
   ],
   "source": [
    "a = customers['lifetime_value'].describe()\n",
    "b = customers['lifetime_value'].median()\n",
    "c = customers['lifetime_value'].mode()\n",
    "print(a)\n",
    "print()\n",
    "print(f'Median: {b}')\n",
    "print()\n",
    "print(f'Mode: {c}')\n",
    "\n",
    "#if len(c) == 1:\n",
    "#    print(f'Mode: {c.iloc[0]}')\n",
    "#else:\n",
    "#    print(f'Multiple modes ({len(c)} values). Example first mode: {c.iloc[0]}')\n",
    "#    print('All modes:', c.tolist())"
   ]
  },
  {
   "cell_type": "code",
   "execution_count": 45,
   "metadata": {},
   "outputs": [
    {
     "name": "stdout",
     "output_type": "stream",
     "text": [
      "\n",
      "Missing Values Analysis - Customers\n",
      "==================================================\n",
      "       Missing_Count  Percentage\n",
      "state              2        6.67\n"
     ]
    }
   ],
   "source": [
    "# Fill the lifetime value with the mean for the column\n",
    "\n",
    "customers.lifetime_value.fillna(customers.lifetime_value.mean(),inplace=True)\n",
    "\n",
    "# Check missing values in customers\n",
    "print(\"\\nMissing Values Analysis - Customers\")\n",
    "print(\"=\"*50)\n",
    "missing_customers = customers.isnull().sum()\n",
    "missing_pct_cust = (missing_customers / len(customers)) * 100\n",
    "missing_cust_df = pd.DataFrame({\n",
    "    'Missing_Count': missing_customers,\n",
    "    'Percentage': missing_pct_cust\n",
    "})\n",
    "print(missing_cust_df[missing_cust_df['Missing_Count'] > 0].sort_values('Missing_Count', ascending=False))"
   ]
  },
  {
   "cell_type": "code",
   "execution_count": null,
   "metadata": {},
   "outputs": [],
   "source": []
  },
  {
   "cell_type": "code",
   "execution_count": 46,
   "metadata": {},
   "outputs": [
    {
     "name": "stdout",
     "output_type": "stream",
     "text": [
      "Missing Values Analysis - touchpoints\n",
      "==================================================\n",
      "                 Missing_Count  Percentage\n",
      "store_id                    22       81.48\n",
      "campaign_id                 12       44.44\n",
      "pages_viewed                 8       29.63\n",
      "landing_page                 8       29.63\n",
      "transaction_id               8       29.63\n",
      "products_viewed              8       29.63\n",
      "referrer_source              5       18.52\n",
      "device_type                  5       18.52\n"
     ]
    }
   ],
   "source": [
    "# Check for missing values in touchpoints\n",
    "print(\"Missing Values Analysis - touchpoints\")\n",
    "print(\"=\"*50)\n",
    "missing_touchpoints = touchpoints.isnull().sum()\n",
    "missing_pct = (missing_touchpoints / len(touchpoints)) * 100\n",
    "missing_df = pd.DataFrame({\n",
    "    'Missing_Count': missing_touchpoints,\n",
    "    'Percentage': missing_pct\n",
    "})\n",
    "print(missing_df[missing_df['Missing_Count'] > 0].sort_values('Missing_Count', ascending=False))\n"
   ]
  },
  {
   "cell_type": "code",
   "execution_count": 48,
   "metadata": {},
   "outputs": [
    {
     "name": "stdout",
     "output_type": "stream",
     "text": [
      "Handling Missing Values:\n",
      "========================================\n",
      "Filled missing campaign_id with -1 (organic traffic indicator)\n",
      "Filled missing store_id with -1 (online interaction)\n",
      "Filled missing transaction_id with -1 (no conversion)\n",
      "Filled missing state in customers with TX\n",
      "\n",
      "Missing values handled successfully!\n"
     ]
    }
   ],
   "source": [
    "# Handle missing values strategically\n",
    "print(\"Handling Missing Values:\")\n",
    "print(\"=\"*40)\n",
    "\n",
    "# For touchpoints dataset\n",
    "# Fill missing campaign_id with -1 (indicates organic/direct traffic)\n",
    "touchpoints['campaign_id'].fillna(-1, inplace=True)\n",
    "print(\"Filled missing campaign_id with -1 (organic traffic indicator)\")\n",
    "\n",
    "# Fill missing store_id with -1 (indicates online interaction)\n",
    "touchpoints['store_id'].fillna(-1, inplace=True)\n",
    "print(\"Filled missing store_id with -1 (online interaction)\")\n",
    "\n",
    "# Fill missing transaction_id with -1 (indicates no conversion)\n",
    "touchpoints['transaction_id'].fillna(-1, inplace=True)\n",
    "print(\"Filled missing transaction_id with -1 (no conversion)\")\n",
    "\n",
    "# For customers dataset\n",
    "# Fill missing state with TX\n",
    "customers['state'].fillna('TX', inplace=True)\n",
    "print(\"Filled missing state in customers with TX\")\n",
    "\n",
    "\n",
    "print(\"\\nMissing values handled successfully!\")"
   ]
  },
  {
   "cell_type": "markdown",
   "metadata": {},
   "source": [
    "### Quick Exercise (10 minutes)\n",
    "\n",
    "1. Does transactions have any duplicates?\n",
    "2. Does it have any missing values? Which variables should you populate with imputed data?\n",
    "3. Populate missing shipping amounts with the mean of the column.\n",
    "4. Populate missing store ids with -1 to indicate an online.\n",
    "5. Populate missing promo codes with 'None'."
   ]
  },
  {
   "cell_type": "code",
   "execution_count": 8,
   "metadata": {},
   "outputs": [
    {
     "data": {
      "text/html": [
       "<div>\n",
       "<style scoped>\n",
       "    .dataframe tbody tr th:only-of-type {\n",
       "        vertical-align: middle;\n",
       "    }\n",
       "\n",
       "    .dataframe tbody tr th {\n",
       "        vertical-align: top;\n",
       "    }\n",
       "\n",
       "    .dataframe thead th {\n",
       "        text-align: right;\n",
       "    }\n",
       "</style>\n",
       "<table border=\"1\" class=\"dataframe\">\n",
       "  <thead>\n",
       "    <tr style=\"text-align: right;\">\n",
       "      <th></th>\n",
       "      <th>transaction_id</th>\n",
       "      <th>customer_id</th>\n",
       "      <th>order_date</th>\n",
       "      <th>channel</th>\n",
       "      <th>store_id</th>\n",
       "      <th>payment_method</th>\n",
       "      <th>card_bank</th>\n",
       "      <th>subtotal</th>\n",
       "      <th>discount_amount</th>\n",
       "      <th>tax_amount</th>\n",
       "      <th>shipping_amount</th>\n",
       "      <th>total_amount</th>\n",
       "      <th>promo_code_used</th>\n",
       "      <th>device_type</th>\n",
       "      <th>fulfillment_method</th>\n",
       "      <th>return_flag</th>\n",
       "    </tr>\n",
       "  </thead>\n",
       "  <tbody>\n",
       "  </tbody>\n",
       "</table>\n",
       "</div>"
      ],
      "text/plain": [
       "Empty DataFrame\n",
       "Columns: [transaction_id, customer_id, order_date, channel, store_id, payment_method, card_bank, subtotal, discount_amount, tax_amount, shipping_amount, total_amount, promo_code_used, device_type, fulfillment_method, return_flag]\n",
       "Index: []"
      ]
     },
     "execution_count": 8,
     "metadata": {},
     "output_type": "execute_result"
    }
   ],
   "source": [
    "# Check duplicates in transactions\n",
    "transactions.loc[transactions.duplicated()]"
   ]
  },
  {
   "cell_type": "code",
   "execution_count": 39,
   "metadata": {},
   "outputs": [
    {
     "data": {
      "text/plain": [
       "transaction_id         0\n",
       "customer_id            0\n",
       "order_date             0\n",
       "channel                0\n",
       "store_id              29\n",
       "payment_method         0\n",
       "card_bank             41\n",
       "subtotal               0\n",
       "discount_amount        0\n",
       "tax_amount             0\n",
       "shipping_amount        3\n",
       "total_amount           0\n",
       "promo_code_used       26\n",
       "device_type           16\n",
       "fulfillment_method     0\n",
       "return_flag            0\n",
       "dtype: int64"
      ]
     },
     "execution_count": 39,
     "metadata": {},
     "output_type": "execute_result"
    }
   ],
   "source": [
    "# Check missing values in transactions\n",
    "transactions.isnull().sum()"
   ]
  },
  {
   "cell_type": "code",
   "execution_count": 41,
   "metadata": {},
   "outputs": [],
   "source": [
    "# Populate missing shipping_value rows with the mean.\n",
    "transactions.shipping_amount.fillna(transactions.shipping_amount.mean(),inplace=True)\n"
   ]
  },
  {
   "cell_type": "code",
   "execution_count": 42,
   "metadata": {},
   "outputs": [
    {
     "name": "stdout",
     "output_type": "stream",
     "text": [
      "Filled missing store_id with -1 (online transaction) \n"
     ]
    }
   ],
   "source": [
    "# Fill missing store_id with -1 (online transaction)\n",
    "transactions['store_id'].fillna(-1, inplace=True)\n",
    "print(\"Filled missing store_id with -1 (online transaction) \")\n"
   ]
  },
  {
   "cell_type": "code",
   "execution_count": 43,
   "metadata": {},
   "outputs": [
    {
     "name": "stdout",
     "output_type": "stream",
     "text": [
      "Filled missing promo_code_used with 'NONE' \n"
     ]
    }
   ],
   "source": [
    "# Fill missing promo_code with 'NONE'\n",
    "transactions['promo_code_used'].fillna('NONE', inplace=True)\n",
    "print(\"Filled missing promo_code_used with 'NONE' \")\n"
   ]
  },
  {
   "cell_type": "markdown",
   "metadata": {},
   "source": [
    "### Data Type Corrections"
   ]
  },
  {
   "cell_type": "code",
   "execution_count": 44,
   "metadata": {},
   "outputs": [
    {
     "name": "stdout",
     "output_type": "stream",
     "text": [
      "<class 'pandas.core.frame.DataFrame'>\n",
      "RangeIndex: 27 entries, 0 to 26\n",
      "Data columns (total 17 columns):\n",
      " #   Column                Non-Null Count  Dtype  \n",
      "---  ------                --------------  -----  \n",
      " 0   touchpoint_id         27 non-null     int64  \n",
      " 1   customer_id           27 non-null     int64  \n",
      " 2   session_id            27 non-null     object \n",
      " 3   touchpoint_timestamp  27 non-null     object \n",
      " 4   touchpoint_type       27 non-null     object \n",
      " 5   channel               27 non-null     object \n",
      " 6   campaign_id           27 non-null     float64\n",
      " 7   referrer_source       22 non-null     object \n",
      " 8   landing_page          19 non-null     object \n",
      " 9   pages_viewed          19 non-null     float64\n",
      " 10  products_viewed       19 non-null     object \n",
      " 11  cart_additions        27 non-null     int64  \n",
      " 12  cart_value            27 non-null     float64\n",
      " 13  converted_flag        27 non-null     bool   \n",
      " 14  transaction_id        27 non-null     float64\n",
      " 15  device_type           22 non-null     object \n",
      " 16  store_id              27 non-null     float64\n",
      "dtypes: bool(1), float64(5), int64(3), object(8)\n",
      "memory usage: 3.5+ KB\n"
     ]
    }
   ],
   "source": [
    "# Check current data types\n",
    "touchpoints.info()"
   ]
  },
  {
   "cell_type": "code",
   "execution_count": 45,
   "metadata": {},
   "outputs": [
    {
     "name": "stdout",
     "output_type": "stream",
     "text": [
      "Converted store_id to string type\n",
      "New data type: string\n",
      "Converted campaign_id to string type\n"
     ]
    }
   ],
   "source": [
    "# Convert store_id from float to string (it's actually a store identifier, not a numeric value)\n",
    "\n",
    "# Convert to categorical\n",
    "touchpoints['store_id'] = touchpoints['store_id'].astype('string')\n",
    "\n",
    "print(\"Converted store_id to string type\")\n",
    "print(f\"New data type: {touchpoints['store_id'].dtype}\")\n",
    "\n",
    "# Convert campaign_id to string as well\n",
    "touchpoints['campaign_id'] = touchpoints['campaign_id'].astype('string')\n",
    "print(\"Converted campaign_id to string type\")"
   ]
  },
  {
   "cell_type": "code",
   "execution_count": 46,
   "metadata": {},
   "outputs": [],
   "source": [
    "# change to numeric example\n",
    "# vaccines['series_complete_pop_pct'] = pd.to_numeric(vaccines['series_complete_pop_pct']).astype(int)"
   ]
  },
  {
   "cell_type": "markdown",
   "metadata": {},
   "source": [
    "### Rename Columns for Clarity"
   ]
  },
  {
   "cell_type": "code",
   "execution_count": 48,
   "metadata": {},
   "outputs": [
    {
     "name": "stdout",
     "output_type": "stream",
     "text": [
      "Renaming columns for clarity...\n",
      "========================================\n",
      " Renamed touchpoints columns:\n",
      "  - converted_flag → conversion_status\n",
      "  - touchpoint_timestamp → interaction_datetime\n",
      "\n",
      "New column names:\n",
      "Touchpoints: ['touchpoint_id', 'customer_id', 'session_id', 'interaction_datetime', 'touchpoint_type']...\n"
     ]
    }
   ],
   "source": [
    "# Rename columns for better clarity\n",
    "print(\"Renaming columns for clarity...\")\n",
    "print(\"=\"*40)\n",
    "\n",
    "# Rename in touchpoints\n",
    "touchpoints.rename(columns={\n",
    "    'converted_flag': 'conversion_status',\n",
    "    'touchpoint_timestamp': 'interaction_datetime'\n",
    "}, inplace=True)\n",
    "\n",
    "print(\" Renamed touchpoints columns:\")\n",
    "print(\"  - converted_flag → conversion_status\")\n",
    "print(\"  - touchpoint_timestamp → interaction_datetime\")\n",
    "\n",
    "print(\"\\nNew column names:\")\n",
    "print(f\"Touchpoints: {list(touchpoints.columns[:5])}...\")\n"
   ]
  },
  {
   "cell_type": "markdown",
   "metadata": {},
   "source": [
    "### Quick Exercise (5 minutes)\n",
    "\n",
    "1. Change tranactions store_id to a category.\n",
    "2. Rename return_flag to was_returned."
   ]
  },
  {
   "cell_type": "code",
   "execution_count": 53,
   "metadata": {},
   "outputs": [
    {
     "name": "stdout",
     "output_type": "stream",
     "text": [
      "<class 'pandas.core.frame.DataFrame'>\n",
      "RangeIndex: 45 entries, 0 to 44\n",
      "Data columns (total 16 columns):\n",
      " #   Column              Non-Null Count  Dtype  \n",
      "---  ------              --------------  -----  \n",
      " 0   transaction_id      45 non-null     int64  \n",
      " 1   customer_id         45 non-null     int64  \n",
      " 2   order_date          45 non-null     object \n",
      " 3   channel             45 non-null     object \n",
      " 4   store_id            45 non-null     string \n",
      " 5   payment_method      45 non-null     object \n",
      " 6   card_bank           4 non-null      object \n",
      " 7   subtotal            45 non-null     float64\n",
      " 8   discount_amount     45 non-null     float64\n",
      " 9   tax_amount          45 non-null     float64\n",
      " 10  shipping_amount     45 non-null     float64\n",
      " 11  total_amount        45 non-null     float64\n",
      " 12  promo_code_used     45 non-null     object \n",
      " 13  device_type         29 non-null     object \n",
      " 14  fulfillment_method  45 non-null     object \n",
      " 15  was_returned        45 non-null     bool   \n",
      "dtypes: bool(1), float64(5), int64(2), object(7), string(1)\n",
      "memory usage: 5.4+ KB\n"
     ]
    }
   ],
   "source": [
    "# Check current data types\n",
    "transactions.info()\n",
    "\n"
   ]
  },
  {
   "cell_type": "code",
   "execution_count": 52,
   "metadata": {},
   "outputs": [
    {
     "name": "stdout",
     "output_type": "stream",
     "text": [
      "Converted store_id to string type\n",
      "New data type: string\n"
     ]
    }
   ],
   "source": [
    "# Change store_id to a category data type\n",
    "transactions['store_id'] = transactions['store_id'].astype('string')\n",
    "\n",
    "print(\"Converted store_id to string type\")\n",
    "print(f\"New data type: {transactions['store_id'].dtype}\")\n"
   ]
  },
  {
   "cell_type": "code",
   "execution_count": 51,
   "metadata": {},
   "outputs": [],
   "source": [
    "# Rename in transactions\n",
    "transactions.rename(columns={\n",
    "    'return_flag': 'was_returned'\n",
    "}, inplace=True)\n"
   ]
  },
  {
   "cell_type": "markdown",
   "metadata": {},
   "source": [
    "### Categorical Data Analysis and Visualization"
   ]
  },
  {
   "cell_type": "markdown",
   "metadata": {},
   "source": [
    "### Examine touchpoints"
   ]
  },
  {
   "cell_type": "code",
   "execution_count": 54,
   "metadata": {},
   "outputs": [
    {
     "name": "stdout",
     "output_type": "stream",
     "text": [
      "Categorical Data Analysis\n",
      "==================================================\n",
      "\n",
      "CHANNEL:\n",
      "  Unique values: 7\n",
      "  Unique list: ['Instagram', 'Direct', 'Email', 'TikTok', 'Walk-in', 'Facebook', 'Google']\n",
      "\n",
      "  Value counts:\n",
      "channel\n",
      "Direct       7\n",
      "Email        6\n",
      "Walk-in      5\n",
      "Google       4\n",
      "Instagram    2\n",
      "TikTok       2\n",
      "Facebook     1\n",
      "Name: count, dtype: int64\n",
      "\n",
      "DEVICE_TYPE:\n",
      "  Unique values: 2\n",
      "  Unique list: ['Mobile', 'Desktop', nan]\n",
      "\n",
      "  Value counts:\n",
      "device_type\n",
      "Mobile     14\n",
      "Desktop     8\n",
      "Name: count, dtype: int64\n",
      "\n",
      "TOUCHPOINT_TYPE:\n",
      "  Unique values: 5\n",
      "  Unique list: ['Ad Click', 'Web Visit', 'Email Open', 'Store Visit', 'Ad View']\n",
      "\n",
      "  Value counts:\n",
      "touchpoint_type\n",
      "Web Visit      14\n",
      "Store Visit     5\n",
      "Ad Click        4\n",
      "Email Open      3\n",
      "Ad View         1\n",
      "Name: count, dtype: int64\n"
     ]
    }
   ],
   "source": [
    "# Analyze categorical columns: channel, device_type, touchpoint_type\n",
    "categorical_cols = ['channel', 'device_type', 'touchpoint_type']\n",
    "\n",
    "print(\"Categorical Data Analysis\")\n",
    "print(\"=\"*50)\n",
    "\n",
    "for col in categorical_cols:\n",
    "    print(f\"\\n{col.upper()}:\")\n",
    "    print(f\"  Unique values: {touchpoints[col].nunique()}\")\n",
    "    print(f\"  Unique list: {touchpoints[col].unique().tolist()}\")\n",
    "    print(f\"\\n  Value counts:\")\n",
    "    print(touchpoints[col].value_counts())"
   ]
  },
  {
   "cell_type": "code",
   "execution_count": 55,
   "metadata": {},
   "outputs": [
    {
     "data": {
      "image/png": "[encoded data removed]",
      "text/plain": [
       "<Figure size 1500x500 with 3 Axes>"
      ]
     },
     "metadata": {},
     "output_type": "display_data"
    }
   ],
   "source": [
    "# Create bar charts for categorical variables\n",
    "fig, axes = plt.subplots(1, 3, figsize=(15, 5))\n",
    "\n",
    "# Channel distribution\n",
    "channel_counts = touchpoints['channel'].value_counts()\n",
    "axes[0].bar(channel_counts.index, channel_counts.values, color='steelblue')\n",
    "axes[0].set_title('Distribution of Touchpoints by Channel', fontsize=12, fontweight='bold')\n",
    "axes[0].set_xlabel('Channel')\n",
    "axes[0].set_ylabel('Count')\n",
    "axes[0].tick_params(axis='x', rotation=45)\n",
    "\n",
    "# Device type distribution\n",
    "device_counts = touchpoints['device_type'].value_counts()\n",
    "axes[1].bar(device_counts.index, device_counts.values, color='coral')\n",
    "axes[1].set_title('Distribution by Device Type', fontsize=12, fontweight='bold')\n",
    "axes[1].set_xlabel('Device Type')\n",
    "axes[1].set_ylabel('Count')\n",
    "\n",
    "# Touchpoint type distribution\n",
    "touchpoint_counts = touchpoints['touchpoint_type'].value_counts()\n",
    "axes[2].bar(touchpoint_counts.index, touchpoint_counts.values, color='seagreen')\n",
    "axes[2].set_title('Distribution by Touchpoint Type', fontsize=12, fontweight='bold')\n",
    "axes[2].set_xlabel('Touchpoint Type')\n",
    "axes[2].set_ylabel('Count')\n",
    "axes[2].tick_params(axis='x', rotation=45)\n",
    "\n",
    "plt.tight_layout()\n",
    "plt.show()"
   ]
  },
  {
   "cell_type": "markdown",
   "metadata": {},
   "source": [
    "### Bar Charts for customers"
   ]
  },
  {
   "cell_type": "code",
   "execution_count": 56,
   "metadata": {},
   "outputs": [
    {
     "data": {
      "text/plain": [
       "<Axes: xlabel='gender', ylabel='count'>"
      ]
     },
     "execution_count": 56,
     "metadata": {},
     "output_type": "execute_result"
    },
    {
     "data": {
      "image/png": "[encoded data removed]",
      "text/plain": [
       "<Figure size 640x480 with 1 Axes>"
      ]
     },
     "metadata": {},
     "output_type": "display_data"
    }
   ],
   "source": [
    "sns.countplot(x='gender', data=customers)"
   ]
  },
  {
   "cell_type": "markdown",
   "metadata": {},
   "source": [
    "### Fix Data Inconsistencies"
   ]
  },
  {
   "cell_type": "code",
   "execution_count": 57,
   "metadata": {},
   "outputs": [],
   "source": [
    "# Change/Fix some of the data values\n",
    "\n",
    "customers['gender'] = customers['gender'].replace({'M':'Male', 'F':'Female'})\n"
   ]
  },
  {
   "cell_type": "code",
   "execution_count": 58,
   "metadata": {},
   "outputs": [],
   "source": [
    "# Inconsistent capitalization\n",
    "# Apply a function along an axis of the DataFrame.\n",
    "\n",
    "customers['gender'] = customers['gender'].apply(lambda x:x.lower())"
   ]
  },
  {
   "cell_type": "code",
   "execution_count": 59,
   "metadata": {},
   "outputs": [
    {
     "name": "stdout",
     "output_type": "stream",
     "text": [
      "Series([], Name: gender, dtype: object)\n",
      "0    0\n",
      "Name: gender, dtype: object\n"
     ]
    }
   ],
   "source": [
    "x = customers.loc[customers.gender == 'unknown/invalid','gender']\n",
    "y = customers.loc[customers.gender == '0','gender']\n",
    "print(x)\n",
    "print(y)"
   ]
  },
  {
   "cell_type": "code",
   "execution_count": 60,
   "metadata": {},
   "outputs": [
    {
     "data": {
      "text/plain": [
       "<Axes: xlabel='gender', ylabel='count'>"
      ]
     },
     "execution_count": 60,
     "metadata": {},
     "output_type": "execute_result"
    },
    {
     "data": {
      "image/png": "[encoded data removed]",
      "text/plain": [
       "<Figure size 640x480 with 1 Axes>"
      ]
     },
     "metadata": {},
     "output_type": "display_data"
    }
   ],
   "source": [
    "customers['gender'] = customers['gender'].replace({'0':'female'})\n",
    "sns.countplot(x='gender', data=customers)"
   ]
  },
  {
   "cell_type": "code",
   "execution_count": 61,
   "metadata": {},
   "outputs": [
    {
     "name": "stdout",
     "output_type": "stream",
     "text": [
      "Checking for Data Inconsistencies\n",
      "==================================================\n",
      "\n",
      "Channel values (checking for case inconsistencies):\n",
      "channel\n",
      "direct       7\n",
      "email        6\n",
      "walk-in      5\n",
      "google       4\n",
      "instagram    2\n",
      "tiktok       2\n",
      "facebook     1\n",
      "Name: count, dtype: int64\n",
      "\n",
      "✓ Standardized channel names to Title Case\n",
      "\n",
      "Device Type values:\n",
      "device_type\n",
      "Mobile     14\n",
      "Desktop     8\n",
      "Name: count, dtype: int64\n",
      "✓ Filled missing device_type with 'Unknown'\n",
      "\n",
      "Referrer source values (sample):\n",
      "referrer_source\n",
      "direct           7\n",
      "google.com       4\n",
      "email            3\n",
      "instagram.com    2\n",
      "gmail.com        2\n",
      "Name: count, dtype: int64\n",
      "✓ Standardized referrer_source to lowercase and removed whitespace\n"
     ]
    }
   ],
   "source": [
    "# Check for inconsistencies in categorical data\n",
    "print(\"Checking for Data Inconsistencies\")\n",
    "print(\"=\"*50)\n",
    "\n",
    "# Check channel values for inconsistencies\n",
    "print(\"\\nChannel values (checking for case inconsistencies):\")\n",
    "channels = touchpoints['channel'].str.lower().value_counts()\n",
    "print(channels)\n",
    "\n",
    "# Standardize channel names (ensure consistent casing)\n",
    "touchpoints['channel'] = touchpoints['channel'].str.title()\n",
    "print(\"\\n✓ Standardized channel names to Title Case\")\n",
    "\n",
    "# Check for inconsistent device type values\n",
    "print(\"\\nDevice Type values:\")\n",
    "print(touchpoints['device_type'].value_counts())\n",
    "\n",
    "# Fix any None/NaN values in device_type\n",
    "touchpoints['device_type'].fillna('Unknown', inplace=True)\n",
    "print(\"✓ Filled missing device_type with 'Unknown'\")\n",
    "\n",
    "# Check referrer_source for cleanup\n",
    "print(\"\\nReferrer source values (sample):\")\n",
    "print(touchpoints['referrer_source'].value_counts().head())\n",
    "\n",
    "# Standardize referrer_source\n",
    "touchpoints['referrer_source'] = touchpoints['referrer_source'].str.lower().str.strip()\n",
    "print(\"✓ Standardized referrer_source to lowercase and removed whitespace\")"
   ]
  },
  {
   "cell_type": "markdown",
   "metadata": {},
   "source": [
    "### Numeric Data Analysis and Visualization"
   ]
  },
  {
   "cell_type": "code",
   "execution_count": 62,
   "metadata": {},
   "outputs": [
    {
     "name": "stdout",
     "output_type": "stream",
     "text": [
      "Numeric Data Statistics\n",
      "==================================================\n",
      "       pages_viewed  cart_additions  cart_value\n",
      "count         19.00           27.00       27.00\n",
      "mean           6.74            1.22      115.17\n",
      "std            4.74            1.22      144.20\n",
      "min            2.00            0.00        0.00\n",
      "25%            3.00            0.00        0.00\n",
      "50%            5.00            1.00       89.99\n",
      "75%            9.00            2.00      169.98\n",
      "max           18.00            3.00      629.97\n"
     ]
    }
   ],
   "source": [
    "# Analyze numeric columns\n",
    "numeric_cols = ['pages_viewed', 'cart_additions', 'cart_value']\n",
    "\n",
    "print(\"Numeric Data Statistics\")\n",
    "print(\"=\"*50)\n",
    "print(touchpoints[numeric_cols].describe())"
   ]
  },
  {
   "cell_type": "markdown",
   "metadata": {},
   "source": [
    "### Let's talk about histograms for a minute!"
   ]
  },
  {
   "cell_type": "code",
   "execution_count": 63,
   "metadata": {},
   "outputs": [
    {
     "data": {
      "image/png": "[encoded data removed]",
      "text/plain": [
       "<Figure size 700x500 with 1 Axes>"
      ]
     },
     "metadata": {},
     "output_type": "display_data"
    }
   ],
   "source": [
    "# Change the bin size to get a picture that is helpful.\n",
    "\n",
    "import seaborn as sns\n",
    "import matplotlib as mpl\n",
    "import matplotlib.pyplot as plt\n",
    "\n",
    "sns.set_theme(style=\"ticks\")\n",
    "\n",
    "diamonds = sns.load_dataset(\"diamonds\")\n",
    "\n",
    "f, ax = plt.subplots(figsize=(7, 5))\n",
    "sns.despine(f)\n",
    "sns.histplot(data=diamonds, x='price', binwidth = 10)\n",
    "plt.show()"
   ]
  },
  {
   "cell_type": "markdown",
   "metadata": {},
   "source": [
    "### Histgrams for project data"
   ]
  },
  {
   "cell_type": "code",
   "execution_count": 64,
   "metadata": {},
   "outputs": [
    {
     "data": {
      "image/png": "[encoded data removed]",
      "text/plain": [
       "<Figure size 1500x500 with 3 Axes>"
      ]
     },
     "metadata": {},
     "output_type": "display_data"
    }
   ],
   "source": [
    "# Create histograms for numeric columns\n",
    "fig, axes = plt.subplots(1, 3, figsize=(15, 5))\n",
    "\n",
    "# Pages viewed histogram\n",
    "axes[0].hist(touchpoints['pages_viewed'].dropna(), bins=15, color='skyblue', edgecolor='black')\n",
    "axes[0].set_title('Distribution of Pages Viewed', fontsize=12, fontweight='bold')\n",
    "axes[0].set_xlabel('Pages Viewed')\n",
    "axes[0].set_ylabel('Frequency')\n",
    "axes[0].axvline(touchpoints['pages_viewed'].mean(), color='red', linestyle='--', label=f'Mean: {touchpoints[\"pages_viewed\"].mean():.1f}')\n",
    "axes[0].legend()\n",
    "\n",
    "# Cart additions histogram\n",
    "axes[1].hist(touchpoints['cart_additions'], bins=10, color='lightcoral', edgecolor='black')\n",
    "axes[1].set_title('Distribution of Cart Additions', fontsize=12, fontweight='bold')\n",
    "axes[1].set_xlabel('Cart Additions')\n",
    "axes[1].set_ylabel('Frequency')\n",
    "axes[1].axvline(touchpoints['cart_additions'].mean(), color='red', linestyle='--', label=f'Mean: {touchpoints[\"cart_additions\"].mean():.1f}')\n",
    "axes[1].legend()\n",
    "\n",
    "# Cart value histogram (excluding zeros)\n",
    "cart_values_nonzero = touchpoints[touchpoints['cart_value'] > 0]['cart_value']\n",
    "axes[2].hist(cart_values_nonzero, bins=15, color='lightgreen', edgecolor='black')\n",
    "axes[2].set_title('Distribution of Cart Value (Non-zero)', fontsize=12, fontweight='bold')\n",
    "axes[2].set_xlabel('Cart Value ($)')\n",
    "axes[2].set_ylabel('Frequency')\n",
    "axes[2].axvline(cart_values_nonzero.mean(), color='red', linestyle='--', label=f'Mean: ${cart_values_nonzero.mean():.2f}')\n",
    "axes[2].legend()\n",
    "\n",
    "plt.tight_layout()\n",
    "plt.show()"
   ]
  },
  {
   "cell_type": "markdown",
   "metadata": {},
   "source": [
    "### Boxplots for project data"
   ]
  },
  {
   "cell_type": "code",
   "execution_count": 65,
   "metadata": {},
   "outputs": [
    {
     "data": {
      "image/png": "[encoded data removed]",
      "text/plain": [
       "<Figure size 1500x500 with 3 Axes>"
      ]
     },
     "metadata": {},
     "output_type": "display_data"
    },
    {
     "name": "stdout",
     "output_type": "stream",
     "text": [
      "\n",
      "Found 1 outliers in cart_value (using IQR method)\n"
     ]
    }
   ],
   "source": [
    "# Create boxplots for numeric columns\n",
    "fig, axes = plt.subplots(1, 3, figsize=(15, 5))\n",
    "\n",
    "# Pages viewed boxplot\n",
    "axes[0].boxplot(touchpoints['pages_viewed'].dropna(), vert=True)\n",
    "axes[0].set_title('Pages Viewed Distribution', fontsize=12, fontweight='bold')\n",
    "axes[0].set_ylabel('Pages Viewed')\n",
    "axes[0].grid(True, alpha=0.3)\n",
    "\n",
    "# Cart additions boxplot\n",
    "axes[1].boxplot(touchpoints['cart_additions'].dropna(), vert=True)\n",
    "axes[1].set_title('Cart Additions Distribution', fontsize=12, fontweight='bold')\n",
    "axes[1].set_ylabel('Cart Additions')\n",
    "axes[1].grid(True, alpha=0.3)\n",
    "\n",
    "# Cart value boxplot (non-zero)\n",
    "axes[2].boxplot(cart_values_nonzero, vert=True)\n",
    "axes[2].set_title('Cart Value Distribution (Non-zero)', fontsize=12, fontweight='bold')\n",
    "axes[2].set_ylabel('Cart Value ($)')\n",
    "axes[2].grid(True, alpha=0.3)\n",
    "\n",
    "plt.tight_layout()\n",
    "plt.show()\n",
    "\n",
    "# Identify outliers\n",
    "Q1 = touchpoints['cart_value'].quantile(0.25)\n",
    "Q3 = touchpoints['cart_value'].quantile(0.75)\n",
    "IQR = Q3 - Q1\n",
    "outliers = touchpoints[(touchpoints['cart_value'] < Q1 - 1.5*IQR) | (touchpoints['cart_value'] > Q3 + 1.5*IQR)]\n",
    "print(f\"\\nFound {len(outliers)} outliers in cart_value (using IQR method)\")"
   ]
  },
  {
   "cell_type": "code",
   "execution_count": 66,
   "metadata": {},
   "outputs": [
    {
     "data": {
      "image/png": "[encoded data removed]",
      "text/plain": [
       "<Figure size 896.222x750 with 12 Axes>"
      ]
     },
     "metadata": {},
     "output_type": "display_data"
    },
    {
     "name": "stdout",
     "output_type": "stream",
     "text": [
      "Pair plot shows relationships between:\n",
      "- Pages viewed\n",
      "- Cart additions\n",
      "- Cart value\n",
      "- Colored by conversion status (0=No conversion, 1=Converted)\n"
     ]
    }
   ],
   "source": [
    "# Create pair plot for numeric variables\n",
    "numeric_data = touchpoints[['pages_viewed', 'cart_additions', 'cart_value', 'conversion_status']].copy()\n",
    "numeric_data['conversion_status'] = numeric_data['conversion_status'].astype(int)\n",
    "\n",
    "# Create pairplot\n",
    "fig = sns.pairplot(numeric_data, hue='conversion_status', \n",
    "                   palette={0: 'coral', 1: 'seagreen'},\n",
    "                   diag_kind='kde',\n",
    "                   plot_kws={'alpha': 0.6})\n",
    "fig.fig.suptitle('Pair Plot of Numeric Variables by Conversion Status', y=1.02, fontsize=14, fontweight='bold')\n",
    "plt.show()\n",
    "\n",
    "print(\"Pair plot shows relationships between:\")\n",
    "print(\"- Pages viewed\")\n",
    "print(\"- Cart additions\")\n",
    "print(\"- Cart value\")\n",
    "print(\"- Colored by conversion status (0=No conversion, 1=Converted)\")"
   ]
  },
  {
   "cell_type": "markdown",
   "metadata": {},
   "source": [
    "### Quick Exercise (30 minutes)\n",
    "\n",
    "1. Explore the transactions data.\n",
    "2. Look at the categorical data.\n",
    "3. Look at the numeric data.\n",
    "4. Make sure every column is examined."
   ]
  },
  {
   "cell_type": "code",
   "execution_count": 67,
   "metadata": {
    "editable": true,
    "slideshow": {
     "slide_type": ""
    },
    "tags": []
   },
   "outputs": [],
   "source": [
    "# Just a function to organize the data\n",
    "\n",
    "def split_columns(df: pd.DataFrame) -> dict:\n",
    "    out = {\n",
    "        \"numeric\":   df.select_dtypes(include=[np.number]).columns.tolist(),\n",
    "        \"integer\":   df.select_dtypes(include=[np.integer]).columns.tolist(),\n",
    "        \"float\":     df.select_dtypes(include=[np.floating]).columns.tolist(),\n",
    "        \"boolean\":   df.select_dtypes(include=['bool', 'boolean']).columns.tolist(),\n",
    "        \"object\":    df.select_dtypes(include=['object', 'string']).columns.tolist(),\n",
    "        \"category\":  df.select_dtypes(include=['category']).columns.tolist(),\n",
    "        \"datetime\":  df.select_dtypes(include=['datetime', 'datetimetz']).columns.tolist(),\n",
    "    }\n",
    "    return out\n"
   ]
  },
  {
   "cell_type": "code",
   "execution_count": 68,
   "metadata": {},
   "outputs": [],
   "source": [
    "# Add the df name that the function is applied to\n",
    "\n",
    "#########\n",
    "# After transactions is added to the notebook.  Uncomment the lines below.\n",
    "#########\n",
    "\n",
    "cols = split_columns(transactions)\n",
    "numeric_cols = cols['numeric']\n",
    "integer_cols = cols['integer']\n",
    "float_cols = cols['float']\n",
    "boolean_cols = cols['boolean']\n",
    "object_cols = cols['object']\n",
    "category_cols = cols['category']\n",
    "datetime_cols = cols['datetime']\n",
    "\n",
    "# print(f'Numeric: {numeric_cols}')\n",
    "# print(f'Integer: {integer_cols}')\n",
    "# print(f'Float: {float_cols}')\n",
    "# print(f'Boolean: {boolean_cols}')\n",
    "# print(f'Object: {object_cols}')\n",
    "# print(f'Category: {category_cols}')\n",
    "# print(f'Datetime: {datetime_cols}')"
   ]
  },
  {
   "cell_type": "markdown",
   "metadata": {},
   "source": [
    "### Exercie Code"
   ]
  },
  {
   "cell_type": "code",
   "execution_count": null,
   "metadata": {},
   "outputs": [],
   "source": []
  },
  {
   "cell_type": "markdown",
   "metadata": {},
   "source": [
    "## Section 3: Data Transformation\n",
    "Creating derived features and transforming data to enable deeper analysis of customer experience patterns."
   ]
  },
  {
   "cell_type": "markdown",
   "metadata": {},
   "source": [
    "### Transformation Planning\n",
    "\n",
    "To uncover the hidden friction points in the customer journey, we need to create several derived features:\n",
    "\n",
    "1. **Time-based features**: Extract hour, day of week, and time of day from timestamps to identify temporal patterns\n",
    "2. **Journey complexity metrics**: Calculate touchpoints per customer, channels used, devices used\n",
    "3. **Conversion funnel stages**: Map touchpoints to funnel stages (awareness, consideration, purchase)\n",
    "4. **Conversion and Abandoment indicators**: Flags abandoned carts and the abandoment value\n",
    "5. **Friction indicators**: Calculate abandonment rates, time between touchpoints"
   ]
  },
  {
   "cell_type": "code",
   "execution_count": 69,
   "metadata": {},
   "outputs": [
    {
     "name": "stdout",
     "output_type": "stream",
     "text": [
      "Creating Time-Based Features\n",
      "==================================================\n",
      "Created time-based features: hour, day_of_week, day_name, time_of_day\n",
      "\n",
      "Time of day distribution:\n",
      "time_of_day\n",
      "Morning      11\n",
      "Afternoon    11\n",
      "Evening       5\n",
      "Name: count, dtype: int64\n"
     ]
    }
   ],
   "source": [
    "# 1. Parse and extract time-based features\n",
    "print(\"Creating Time-Based Features\")\n",
    "print(\"=\"*50)\n",
    "\n",
    "# Parse the interaction datetime\n",
    "touchpoints['interaction_datetime_parsed'] = pd.to_datetime(touchpoints['interaction_datetime'], format='%m/%d/%y %H:%M', errors='coerce')\n",
    "\n",
    "# Extract time components\n",
    "touchpoints['hour'] = touchpoints['interaction_datetime_parsed'].dt.hour\n",
    "touchpoints['day_of_week'] = touchpoints['interaction_datetime_parsed'].dt.dayofweek\n",
    "touchpoints['day_name'] = touchpoints['interaction_datetime_parsed'].dt.day_name()\n",
    "\n",
    "# Create time of day categories\n",
    "def categorize_time_of_day(hour):\n",
    "    if pd.isna(hour):\n",
    "        return 'Unknown'\n",
    "    elif 6 <= hour < 12:\n",
    "        return 'Morning'\n",
    "    elif 12 <= hour < 17:\n",
    "        return 'Afternoon'\n",
    "    elif 17 <= hour < 21:\n",
    "        return 'Evening'\n",
    "    else:\n",
    "        return 'Night'\n",
    "\n",
    "touchpoints['time_of_day'] = touchpoints['hour'].apply(categorize_time_of_day)\n",
    "\n",
    "print(f\"Created time-based features: hour, day_of_week, day_name, time_of_day\")\n",
    "print(f\"\\nTime of day distribution:\")\n",
    "print(touchpoints['time_of_day'].value_counts())"
   ]
  },
  {
   "cell_type": "code",
   "execution_count": 70,
   "metadata": {},
   "outputs": [
    {
     "data": {
      "text/html": [
       "<div>\n",
       "<style scoped>\n",
       "    .dataframe tbody tr th:only-of-type {\n",
       "        vertical-align: middle;\n",
       "    }\n",
       "\n",
       "    .dataframe tbody tr th {\n",
       "        vertical-align: top;\n",
       "    }\n",
       "\n",
       "    .dataframe thead th {\n",
       "        text-align: right;\n",
       "    }\n",
       "</style>\n",
       "<table border=\"1\" class=\"dataframe\">\n",
       "  <thead>\n",
       "    <tr style=\"text-align: right;\">\n",
       "      <th></th>\n",
       "      <th>touchpoint_id</th>\n",
       "      <th>customer_id</th>\n",
       "      <th>session_id</th>\n",
       "      <th>interaction_datetime</th>\n",
       "      <th>touchpoint_type</th>\n",
       "      <th>channel</th>\n",
       "      <th>campaign_id</th>\n",
       "      <th>referrer_source</th>\n",
       "      <th>landing_page</th>\n",
       "      <th>pages_viewed</th>\n",
       "      <th>products_viewed</th>\n",
       "      <th>cart_additions</th>\n",
       "      <th>cart_value</th>\n",
       "      <th>conversion_status</th>\n",
       "      <th>transaction_id</th>\n",
       "      <th>device_type</th>\n",
       "      <th>store_id</th>\n",
       "      <th>interaction_datetime_parsed</th>\n",
       "      <th>hour</th>\n",
       "      <th>day_of_week</th>\n",
       "      <th>day_name</th>\n",
       "      <th>time_of_day</th>\n",
       "    </tr>\n",
       "  </thead>\n",
       "  <tbody>\n",
       "    <tr>\n",
       "      <th>0</th>\n",
       "      <td>6001</td>\n",
       "      <td>1001</td>\n",
       "      <td>sess_1001_01</td>\n",
       "      <td>1/3/24 9:00</td>\n",
       "      <td>Ad Click</td>\n",
       "      <td>Instagram</td>\n",
       "      <td>101.0</td>\n",
       "      <td>instagram.com</td>\n",
       "      <td>/spring-collection</td>\n",
       "      <td>5.00</td>\n",
       "      <td>[2001, 2002, 2005]</td>\n",
       "      <td>0</td>\n",
       "      <td>0.00</td>\n",
       "      <td>False</td>\n",
       "      <td>-1.00</td>\n",
       "      <td>Mobile</td>\n",
       "      <td>-1.0</td>\n",
       "      <td>2024-01-03 09:00:00</td>\n",
       "      <td>9</td>\n",
       "      <td>2</td>\n",
       "      <td>Wednesday</td>\n",
       "      <td>Morning</td>\n",
       "    </tr>\n",
       "    <tr>\n",
       "      <th>1</th>\n",
       "      <td>6002</td>\n",
       "      <td>1001</td>\n",
       "      <td>sess_1001_02</td>\n",
       "      <td>1/4/24 19:30</td>\n",
       "      <td>Web Visit</td>\n",
       "      <td>Direct</td>\n",
       "      <td>-1.0</td>\n",
       "      <td>direct</td>\n",
       "      <td>/home</td>\n",
       "      <td>8.00</td>\n",
       "      <td>[2001, 2003, 2007, 2009]</td>\n",
       "      <td>2</td>\n",
       "      <td>99.98</td>\n",
       "      <td>False</td>\n",
       "      <td>-1.00</td>\n",
       "      <td>Mobile</td>\n",
       "      <td>-1.0</td>\n",
       "      <td>2024-01-04 19:30:00</td>\n",
       "      <td>19</td>\n",
       "      <td>3</td>\n",
       "      <td>Thursday</td>\n",
       "      <td>Evening</td>\n",
       "    </tr>\n",
       "    <tr>\n",
       "      <th>2</th>\n",
       "      <td>6003</td>\n",
       "      <td>1001</td>\n",
       "      <td>sess_1001_03</td>\n",
       "      <td>1/5/24 10:25</td>\n",
       "      <td>Web Visit</td>\n",
       "      <td>Email</td>\n",
       "      <td>103.0</td>\n",
       "      <td>email</td>\n",
       "      <td>/sale</td>\n",
       "      <td>3.00</td>\n",
       "      <td>[2001, 2003, 2007]</td>\n",
       "      <td>3</td>\n",
       "      <td>189.97</td>\n",
       "      <td>True</td>\n",
       "      <td>4001.00</td>\n",
       "      <td>Mobile</td>\n",
       "      <td>-1.0</td>\n",
       "      <td>2024-01-05 10:25:00</td>\n",
       "      <td>10</td>\n",
       "      <td>4</td>\n",
       "      <td>Friday</td>\n",
       "      <td>Morning</td>\n",
       "    </tr>\n",
       "    <tr>\n",
       "      <th>3</th>\n",
       "      <td>6004</td>\n",
       "      <td>1003</td>\n",
       "      <td>sess_1003_01</td>\n",
       "      <td>1/7/24 14:00</td>\n",
       "      <td>Email Open</td>\n",
       "      <td>Email</td>\n",
       "      <td>103.0</td>\n",
       "      <td>gmail.com</td>\n",
       "      <td>NaN</td>\n",
       "      <td>NaN</td>\n",
       "      <td>NaN</td>\n",
       "      <td>0</td>\n",
       "      <td>0.00</td>\n",
       "      <td>False</td>\n",
       "      <td>-1.00</td>\n",
       "      <td>Mobile</td>\n",
       "      <td>-1.0</td>\n",
       "      <td>2024-01-07 14:00:00</td>\n",
       "      <td>14</td>\n",
       "      <td>6</td>\n",
       "      <td>Sunday</td>\n",
       "      <td>Afternoon</td>\n",
       "    </tr>\n",
       "    <tr>\n",
       "      <th>4</th>\n",
       "      <td>6005</td>\n",
       "      <td>1003</td>\n",
       "      <td>sess_1003_02</td>\n",
       "      <td>1/8/24 11:15</td>\n",
       "      <td>Web Visit</td>\n",
       "      <td>Email</td>\n",
       "      <td>103.0</td>\n",
       "      <td>email</td>\n",
       "      <td>/new-arrivals</td>\n",
       "      <td>4.00</td>\n",
       "      <td>[2009, 2006]</td>\n",
       "      <td>1</td>\n",
       "      <td>149.99</td>\n",
       "      <td>True</td>\n",
       "      <td>4003.00</td>\n",
       "      <td>Desktop</td>\n",
       "      <td>-1.0</td>\n",
       "      <td>2024-01-08 11:15:00</td>\n",
       "      <td>11</td>\n",
       "      <td>0</td>\n",
       "      <td>Monday</td>\n",
       "      <td>Morning</td>\n",
       "    </tr>\n",
       "  </tbody>\n",
       "</table>\n",
       "</div>"
      ],
      "text/plain": [
       "   touchpoint_id  customer_id    session_id interaction_datetime  \\\n",
       "0           6001         1001  sess_1001_01          1/3/24 9:00   \n",
       "1           6002         1001  sess_1001_02         1/4/24 19:30   \n",
       "2           6003         1001  sess_1001_03         1/5/24 10:25   \n",
       "3           6004         1003  sess_1003_01         1/7/24 14:00   \n",
       "4           6005         1003  sess_1003_02         1/8/24 11:15   \n",
       "\n",
       "  touchpoint_type    channel campaign_id referrer_source        landing_page  \\\n",
       "0        Ad Click  Instagram       101.0   instagram.com  /spring-collection   \n",
       "1       Web Visit     Direct        -1.0          direct               /home   \n",
       "2       Web Visit      Email       103.0           email               /sale   \n",
       "3      Email Open      Email       103.0       gmail.com                 NaN   \n",
       "4       Web Visit      Email       103.0           email       /new-arrivals   \n",
       "\n",
       "   pages_viewed           products_viewed  cart_additions  cart_value  \\\n",
       "0          5.00        [2001, 2002, 2005]               0        0.00   \n",
       "1          8.00  [2001, 2003, 2007, 2009]               2       99.98   \n",
       "2          3.00        [2001, 2003, 2007]               3      189.97   \n",
       "3           NaN                       NaN               0        0.00   \n",
       "4          4.00              [2009, 2006]               1      149.99   \n",
       "\n",
       "   conversion_status  transaction_id device_type store_id  \\\n",
       "0              False           -1.00      Mobile     -1.0   \n",
       "1              False           -1.00      Mobile     -1.0   \n",
       "2               True         4001.00      Mobile     -1.0   \n",
       "3              False           -1.00      Mobile     -1.0   \n",
       "4               True         4003.00     Desktop     -1.0   \n",
       "\n",
       "  interaction_datetime_parsed  hour  day_of_week   day_name time_of_day  \n",
       "0         2024-01-03 09:00:00     9            2  Wednesday     Morning  \n",
       "1         2024-01-04 19:30:00    19            3   Thursday     Evening  \n",
       "2         2024-01-05 10:25:00    10            4     Friday     Morning  \n",
       "3         2024-01-07 14:00:00    14            6     Sunday   Afternoon  \n",
       "4         2024-01-08 11:15:00    11            0     Monday     Morning  "
      ]
     },
     "execution_count": 70,
     "metadata": {},
     "output_type": "execute_result"
    }
   ],
   "source": [
    "touchpoints.head()"
   ]
  },
  {
   "cell_type": "code",
   "execution_count": 71,
   "metadata": {},
   "outputs": [
    {
     "name": "stdout",
     "output_type": "stream",
     "text": [
      "Calculating Journey Complexity Metrics\n",
      "==================================================\n",
      "Created journey metrics for 19 customers\n",
      "\n",
      "Journey complexity summary:\n",
      "  Multi-channel customers: 4 (21.1%)\n",
      "  Multi-device customers: 2 (10.5%)\n",
      "  Average touchpoints per customer: 1.4\n"
     ]
    }
   ],
   "source": [
    "# 2. Calculate journey complexity metrics\n",
    "print(\"Calculating Journey Complexity Metrics\")\n",
    "print(\"=\"*50)\n",
    "\n",
    "# Customer journey aggregations\n",
    "customer_journey_metrics = touchpoints.groupby('customer_id').agg({\n",
    "    'touchpoint_id': 'count',\n",
    "    'channel': lambda x: x.nunique(),\n",
    "    'device_type': lambda x: x.nunique(),\n",
    "    'conversion_status': lambda x: x.any(),\n",
    "    'cart_value': 'sum',\n",
    "    'pages_viewed': 'sum',\n",
    "    'cart_additions': 'sum'\n",
    "}).reset_index()\n",
    "\n",
    "customer_journey_metrics.columns = ['customer_id', 'total_touchpoints', 'channels_used', \n",
    "                                    'devices_used', 'converted', 'total_cart_value',\n",
    "                                    'total_pages_viewed', 'total_cart_additions']\n",
    "\n",
    "# Add flags for multi-channel and multi-device\n",
    "customer_journey_metrics['is_multichannel'] = customer_journey_metrics['channels_used'] > 1\n",
    "customer_journey_metrics['is_multidevice'] = customer_journey_metrics['devices_used'] > 1\n",
    "\n",
    "print(f\"Created journey metrics for {len(customer_journey_metrics)} customers\")\n",
    "print(f\"\\nJourney complexity summary:\")\n",
    "print(f\"  Multi-channel customers: {customer_journey_metrics['is_multichannel'].sum()} ({customer_journey_metrics['is_multichannel'].mean()*100:.1f}%)\")\n",
    "print(f\"  Multi-device customers: {customer_journey_metrics['is_multidevice'].sum()} ({customer_journey_metrics['is_multidevice'].mean()*100:.1f}%)\")\n",
    "print(f\"  Average touchpoints per customer: {customer_journey_metrics['total_touchpoints'].mean():.1f}\")"
   ]
  },
  {
   "cell_type": "code",
   "execution_count": 74,
   "metadata": {},
   "outputs": [
    {
     "name": "stdout",
     "output_type": "stream",
     "text": [
      "Mapping Touchpoints to Funnel Stages\n",
      "==================================================\n",
      "Assigned funnel stages to all touchpoints\n",
      "\n",
      "Funnel stage distribution:\n",
      "  Awareness: 4 (14.8%)\n",
      "  Consideration: 4 (14.8%)\n",
      "  Purchase: 19 (70.4%)\n"
     ]
    }
   ],
   "source": [
    "# 3. Map touchpoints to funnel stages\n",
    "print(\"Mapping Touchpoints to Funnel Stages\")\n",
    "print(\"=\"*50)\n",
    "\n",
    "def assign_funnel_stage(row):\n",
    "    \"\"\"Assign each touchpoint to a funnel stage based on behavior\"\"\"\n",
    "    if row['conversion_status'] == True:\n",
    "        return 'Purchase'\n",
    "    elif row['cart_additions'] > 0:\n",
    "        return 'Consideration'\n",
    "    else:\n",
    "        return 'Awareness'\n",
    "\n",
    "touchpoints['funnel_stage'] = touchpoints.apply(assign_funnel_stage, axis=1)\n",
    "\n",
    "print(\"Assigned funnel stages to all touchpoints\")\n",
    "print(\"\\nFunnel stage distribution:\")\n",
    "funnel_dist = touchpoints['funnel_stage'].value_counts()\n",
    "for stage in ['Awareness', 'Consideration', 'Purchase']:\n",
    "    count = funnel_dist.get(stage, 0)\n",
    "    pct = (count / len(touchpoints)) * 100\n",
    "    print(f\"  {stage}: {count} ({pct:.1f}%)\")"
   ]
  },
  {
   "cell_type": "code",
   "execution_count": 73,
   "metadata": {},
   "outputs": [
    {
     "name": "stdout",
     "output_type": "stream",
     "text": [
      "Creating Conversion and Abandonment Indicators\n",
      "==================================================\n",
      "✓ Identified cart abandonment patterns\n",
      "\n",
      "Abandonment metrics:\n",
      "  Abandoned carts: 4\n",
      "  Total abandoned value: $559.91\n",
      "  Average abandoned cart value: $139.98\n"
     ]
    }
   ],
   "source": [
    "# 4. Create conversion and abandonment indicators\n",
    "print(\"Creating Conversion and Abandonment Indicators\")\n",
    "print(\"=\"*50)\n",
    "\n",
    "# Flag abandoned carts\n",
    "touchpoints['cart_abandoned'] = (touchpoints['cart_additions'] > 0) & (touchpoints['conversion_status'] == False)\n",
    "\n",
    "# Calculate abandonment value\n",
    "touchpoints['abandonment_value'] = touchpoints.apply(\n",
    "    lambda x: x['cart_value'] if x['cart_abandoned'] else 0, axis=1\n",
    ")\n",
    "\n",
    "total_abandoned_value = touchpoints['abandonment_value'].sum()\n",
    "print(f\"✓ Identified cart abandonment patterns\")\n",
    "print(f\"\\nAbandonment metrics:\")\n",
    "print(f\"  Abandoned carts: {touchpoints['cart_abandoned'].sum()}\")\n",
    "print(f\"  Total abandoned value: ${total_abandoned_value:,.2f}\")\n",
    "print(f\"  Average abandoned cart value: ${touchpoints[touchpoints['cart_abandoned']]['cart_value'].mean():.2f}\")"
   ]
  },
  {
   "cell_type": "code",
   "execution_count": 75,
   "metadata": {},
   "outputs": [
    {
     "name": "stdout",
     "output_type": "stream",
     "text": [
      "Creating Customer Value Segments\n",
      "==================================================\n",
      "✓ Created customer value tiers\n",
      "\n",
      "Value tier distribution:\n",
      "value_tier\n",
      "High Value      16\n",
      "Low Value        9\n",
      "Medium Value     5\n",
      "Name: count, dtype: int64\n",
      "\n",
      "Metrics by value tier:\n",
      "              total_touchpoints is_multichannel is_multidevice\n",
      "value_tier                                                    \n",
      "High Value                 1.45            0.18           0.18\n",
      "Low Value                  1.25            0.25           0.00\n",
      "Medium Value               1.50            0.25           0.00\n"
     ]
    }
   ],
   "source": [
    "# 5. Create customer value segments\n",
    "print(\"Creating Customer Value Segments\")\n",
    "print(\"=\"*50)\n",
    "\n",
    "# Merge customer data with journey metrics\n",
    "customers_enhanced = customers.merge(customer_journey_metrics, on='customer_id', how='left')\n",
    "\n",
    "# Create value tiers based on lifetime value\n",
    "def assign_value_tier(ltv):\n",
    "    if pd.isna(ltv) or ltv == 0:\n",
    "        return 'No Value'\n",
    "    elif ltv < 500:\n",
    "        return 'Low Value'\n",
    "    elif ltv < 1500:\n",
    "        return 'Medium Value'\n",
    "    else:\n",
    "        return 'High Value'\n",
    "\n",
    "customers_enhanced['value_tier'] = customers_enhanced['lifetime_value'].apply(assign_value_tier)\n",
    "\n",
    "print(\"✓ Created customer value tiers\")\n",
    "print(\"\\nValue tier distribution:\")\n",
    "print(customers_enhanced['value_tier'].value_counts())\n",
    "\n",
    "# Calculate metrics by value tier\n",
    "print(\"\\nMetrics by value tier:\")\n",
    "tier_metrics = customers_enhanced.groupby('value_tier').agg({\n",
    "    'total_touchpoints': 'mean',\n",
    "    'is_multichannel': 'mean',\n",
    "    'is_multidevice': 'mean'\n",
    "})\n",
    "print(tier_metrics)"
   ]
  },
  {
   "cell_type": "code",
   "execution_count": 76,
   "metadata": {},
   "outputs": [
    {
     "name": "stdout",
     "output_type": "stream",
     "text": [
      "Creating Channel Attribution Features\n",
      "==================================================\n",
      "Created attribution features\n",
      "\n",
      "Channel switching:\n",
      "  Customers who switched channels: 4 (21.1%)\n",
      "\n",
      "Top channel paths (first → last):\n",
      "first_touch_channel  last_touch_channel\n",
      "Facebook             Direct                1\n",
      "Instagram            Direct                1\n",
      "                     Email                 1\n",
      "Tiktok               Direct                1\n",
      "dtype: int64\n"
     ]
    }
   ],
   "source": [
    "# 6. Create channel attribution features\n",
    "print(\"Creating Channel Attribution Features\")\n",
    "print(\"=\"*50)\n",
    "\n",
    "# Identify first and last touch channels for each customer\n",
    "customer_touchpoints = touchpoints.sort_values(['customer_id', 'interaction_datetime_parsed'])\n",
    "\n",
    "first_touch = customer_touchpoints.groupby('customer_id').first()[['channel']].rename(columns={'channel': 'first_touch_channel'})\n",
    "last_touch = customer_touchpoints.groupby('customer_id').last()[['channel']].rename(columns={'channel': 'last_touch_channel'})\n",
    "\n",
    "# Merge attribution data\n",
    "attribution_df = first_touch.merge(last_touch, on='customer_id')\n",
    "attribution_df['channel_switch'] = attribution_df['first_touch_channel'] != attribution_df['last_touch_channel']\n",
    "\n",
    "print(f\"Created attribution features\")\n",
    "print(f\"\\nChannel switching:\")\n",
    "print(f\"  Customers who switched channels: {attribution_df['channel_switch'].sum()} ({attribution_df['channel_switch'].mean()*100:.1f}%)\")\n",
    "\n",
    "# Most common channel paths\n",
    "print(\"\\nTop channel paths (first → last):\")\n",
    "channel_paths = attribution_df[attribution_df['channel_switch']].groupby(['first_touch_channel', 'last_touch_channel']).size().sort_values(ascending=False).head()\n",
    "print(channel_paths)"
   ]
  },
  {
   "cell_type": "markdown",
   "metadata": {},
   "source": [
    "### Quick Exercise (30 minutes)\n",
    "\n",
    "Every team project will need to use the tranasctions data.  Based on the needs of your team project, work with your partner(s) to determine if there are any transformations of transactions that will be required.\n",
    "\n",
    "Code the requirement.\n",
    "\n",
    "\n"
   ]
  },
  {
   "cell_type": "code",
   "execution_count": null,
   "metadata": {},
   "outputs": [],
   "source": [
    "# 2. Calculate journey complexity metrics\n",
    "print(\"Calculating Journey Complexity Metrics\")\n",
    "print(\"=\"*50)\n",
    "\n",
    "# Customer journey aggregations\n",
    "customer_journey_metrics = transactions.groupby('customer_id').agg({\n",
    "    'transaction_id': 'count',\n",
    "    'channel': lambda x: x.nunique(),\n",
    "    'device_type': lambda x: x.nunique(),\n",
    "    'conversion_status': lambda x: x.any(),\n",
    "    'cart_value': 'sum',\n",
    "    'pages_viewed': 'sum',\n",
    "    'cart_additions': 'sum'\n",
    "}).reset_index()\n",
    "\n",
    "customer_journey_metrics.columns = ['customer_id', 'total_touchpoints', 'channels_used', \n",
    "                                    'devices_used', 'converted', 'total_cart_value',\n",
    "                                    'total_pages_viewed', 'total_cart_additions']\n",
    "\n",
    "# Add flags for multi-channel and multi-device\n",
    "customer_journey_metrics['is_multichannel'] = customer_journey_metrics['channels_used'] > 1\n",
    "customer_journey_metrics['is_multidevice'] = customer_journey_metrics['devices_used'] > 1\n",
    "\n",
    "print(f\"Created journey metrics for {len(customer_journey_metrics)} customers\")\n",
    "print(f\"\\nJourney complexity summary:\")\n",
    "print(f\"  Multi-channel customers: {customer_journey_metrics['is_multichannel'].sum()} ({customer_journey_metrics['is_multichannel'].mean()*100:.1f}%)\")\n",
    "print(f\"  Multi-device customers: {customer_journey_metrics['is_multidevice'].sum()} ({customer_journey_metrics['is_multidevice'].mean()*100:.1f}%)\")\n",
    "print(f\"  Average touchpoints per customer: {customer_journey_metrics['total_touchpoints'].mean():.1f}\")"
   ]
  },
  {
   "cell_type": "markdown",
   "metadata": {},
   "source": [
    "## Section 4: Descriptive Data Analysis\n",
    "Comprehensive analysis of customer experience metrics to understand current state performance.\n"
   ]
  },
  {
   "cell_type": "markdown",
   "metadata": {},
   "source": [
    "### Analysis Plan for Descriptive Analysis\n",
    "\n",
    "In this section, we will:\n",
    "1. **Calculate overall conversion metrics** - Understand baseline performance\n",
    "2. **Analyze channel performance** - Identify which channels drive conversions\n",
    "3. **Examine device-specific behaviors** - Quantify mobile vs desktop experience gaps\n",
    "4. **Study customer segment patterns** - Understand how different segments behave\n",
    "5. **Measure cart abandonment impact** - Quantify lost revenue opportunities"
   ]
  },
  {
   "cell_type": "code",
   "execution_count": null,
   "metadata": {},
   "outputs": [],
   "source": [
    "# 1. Overall Conversion Metrics\n",
    "print(\"=\"*60)\n",
    "print(\"OVERALL CONVERSION METRICS\")\n",
    "print(\"=\"*60)\n",
    "\n",
    "total_sessions = len(touchpoints)\n",
    "converted_sessions = touchpoints['conversion_status'].sum()\n",
    "conversion_rate = (converted_sessions / total_sessions) * 100\n",
    "\n",
    "sessions_with_cart = len(touchpoints[touchpoints['cart_additions'] > 0])\n",
    "cart_to_purchase = touchpoints[touchpoints['cart_additions'] > 0]['conversion_status'].sum()\n",
    "cart_conversion_rate = (cart_to_purchase / sessions_with_cart) * 100 if sessions_with_cart > 0 else 0\n",
    "\n",
    "print(f\"Total Touchpoints: {total_sessions}\")\n",
    "print(f\"Converted Touchpoints: {converted_sessions}\")\n",
    "print(f\"Overall Conversion Rate: {conversion_rate:.1f}%\")\n",
    "print(f\"\\nCart Metrics:\")\n",
    "print(f\"  Sessions with Cart Additions: {sessions_with_cart}\")\n",
    "print(f\"  Cart-to-Purchase Conversion: {cart_conversion_rate:.1f}%\")\n",
    "print(f\"  Cart Abandonment Rate: {100 - cart_conversion_rate:.1f}%\")"
   ]
  },
  {
   "cell_type": "code",
   "execution_count": null,
   "metadata": {},
   "outputs": [],
   "source": [
    "# 2. Channel Performance Analysis\n",
    "print(\"\\n\" + \"=\"*60)\n",
    "print(\"CHANNEL PERFORMANCE ANALYSIS\")\n",
    "print(\"=\"*60)\n",
    "\n",
    "channel_metrics = touchpoints.groupby('channel').agg({\n",
    "    'touchpoint_id': 'count',\n",
    "    'conversion_status': ['sum', 'mean'],\n",
    "    'cart_value': 'mean',\n",
    "    'pages_viewed': 'mean',\n",
    "    'cart_additions': 'mean'\n",
    "}).round(2)\n",
    "\n",
    "channel_metrics.columns = ['Touchpoints', 'Conversions', 'Conv_Rate', 'Avg_Cart_Value', 'Avg_Pages', 'Avg_Cart_Items']\n",
    "channel_metrics['Conv_Rate'] = (channel_metrics['Conv_Rate'] * 100).round(1)\n",
    "channel_metrics = channel_metrics.sort_values('Conv_Rate', ascending=False)\n",
    "\n",
    "print(channel_metrics)\n",
    "\n",
    "# Identify problem channels\n",
    "zero_conv_channels = channel_metrics[channel_metrics['Conv_Rate'] == 0].index.tolist()\n",
    "if zero_conv_channels:\n",
    "    print(f\"\\nCRITICAL: Channels with 0% conversion: {', '.join(zero_conv_channels)}\")\n",
    "    print(\"   These channels are consuming marketing spend with no return!\")"
   ]
  },
  {
   "cell_type": "code",
   "execution_count": null,
   "metadata": {},
   "outputs": [],
   "source": [
    "# 3. Device-Specific Behavior Analysis\n",
    "print(\"\\n\" + \"=\"*60)\n",
    "print(\"DEVICE-SPECIFIC BEHAVIOR ANALYSIS\")\n",
    "print(\"=\"*60)\n",
    "\n",
    "device_metrics = touchpoints.groupby('device_type').agg({\n",
    "    'touchpoint_id': 'count',\n",
    "    'conversion_status': ['sum', 'mean'],\n",
    "    'cart_value': 'mean',\n",
    "    'pages_viewed': 'mean',\n",
    "    'cart_additions': 'mean',\n",
    "    'cart_abandoned': 'sum'\n",
    "}).round(2)\n",
    "\n",
    "device_metrics.columns = ['Sessions', 'Conversions', 'Conv_Rate', 'Avg_Cart_Value', \n",
    "                          'Avg_Pages', 'Avg_Cart_Items', 'Abandoned_Carts']\n",
    "device_metrics['Conv_Rate'] = (device_metrics['Conv_Rate'] * 100).round(1)\n",
    "\n",
    "print(device_metrics)\n",
    "\n",
    "# Calculate mobile vs desktop gap\n",
    "if 'Mobile' in device_metrics.index and 'Desktop' in device_metrics.index:\n",
    "    mobile_conv = device_metrics.loc['Mobile', 'Conv_Rate']\n",
    "    desktop_conv = device_metrics.loc['Desktop', 'Conv_Rate']\n",
    "    conv_gap = desktop_conv - mobile_conv\n",
    "    \n",
    "    print(f\"\\nMOBILE EXPERIENCE GAP:\")\n",
    "    print(f\"   Desktop Conversion: {desktop_conv:.1f}%\")\n",
    "    print(f\"   Mobile Conversion: {mobile_conv:.1f}%\")\n",
    "    print(f\"   Gap: -{conv_gap:.1f}% (Mobile underperforms by {conv_gap:.1f} percentage points)\")"
   ]
  },
  {
   "cell_type": "code",
   "execution_count": null,
   "metadata": {},
   "outputs": [],
   "source": [
    "# 4. Customer Segment Analysis\n",
    "print(\"\\n\" + \"=\"*60)\n",
    "print(\"CUSTOMER SEGMENT ANALYSIS\")\n",
    "print(\"=\"*60)\n",
    "\n",
    "segment_metrics = customers_enhanced.groupby('customer_segment').agg({\n",
    "    'customer_id': 'count',\n",
    "    'lifetime_value': 'mean',\n",
    "    'total_touchpoints': 'mean',\n",
    "    'is_multichannel': lambda x: (x == True).sum(),\n",
    "    'is_multidevice': lambda x: (x == True).sum()\n",
    "}).round(2)\n",
    "\n",
    "segment_metrics.columns = ['Customers', 'Avg_LTV', 'Avg_Touchpoints', 'Multichannel', 'Multidevice']\n",
    "segment_metrics = segment_metrics.sort_values('Avg_LTV', ascending=False)\n",
    "\n",
    "print(segment_metrics)\n",
    "\n",
    "# Identify high-value segments\n",
    "high_value_segments = segment_metrics[segment_metrics['Avg_LTV'] > segment_metrics['Avg_LTV'].mean()].index.tolist()\n",
    "print(f\"\\nHigh-value segments (above average LTV): {', '.join(high_value_segments)}\")"
   ]
  },
  {
   "cell_type": "code",
   "execution_count": null,
   "metadata": {},
   "outputs": [],
   "source": [
    "# 5. Temporal Pattern Analysis\n",
    "print(\"\\n\" + \"=\"*60)\n",
    "print(\"TEMPORAL PATTERN ANALYSIS\")\n",
    "print(\"=\"*60)\n",
    "\n",
    "# Time of day analysis\n",
    "time_metrics = touchpoints.groupby('time_of_day').agg({\n",
    "    'conversion_status': ['count', 'sum', 'mean'],\n",
    "    'cart_value': 'mean'\n",
    "}).round(2)\n",
    "\n",
    "time_metrics.columns = ['Sessions', 'Conversions', 'Conv_Rate', 'Avg_Cart_Value']\n",
    "time_metrics['Conv_Rate'] = (time_metrics['Conv_Rate'] * 100).round(1)\n",
    "\n",
    "# Reorder by typical day flow\n",
    "time_order = ['Morning', 'Afternoon', 'Evening', 'Night', 'Unknown']\n",
    "time_metrics = time_metrics.reindex([t for t in time_order if t in time_metrics.index])\n",
    "\n",
    "print(\"Performance by Time of Day:\")\n",
    "print(time_metrics)\n",
    "\n",
    "# Hour-level analysis for patterns\n",
    "hour_conversions = touchpoints.groupby('hour')['conversion_status'].agg(['count', 'sum', 'mean'])\n",
    "hour_conversions['conv_rate'] = hour_conversions['mean'] * 100\n",
    "\n",
    "best_hours = hour_conversions.nlargest(3, 'conv_rate')\n",
    "worst_hours = hour_conversions.nsmallest(3, 'conv_rate')\n",
    "\n",
    "print(\"\\nHOURLY PATTERNS:\")\n",
    "print(\"Best performing hours:\")\n",
    "for hour, row in best_hours.iterrows():\n",
    "    if not pd.isna(hour):\n",
    "        print(f\"  {int(hour):02d}:00 - {row['conv_rate']:.1f}% conversion ({int(row['sum'])}/{int(row['count'])} sessions)\")\n",
    "\n",
    "print(\"\\nWorst performing hours:\")\n",
    "for hour, row in worst_hours.iterrows():\n",
    "    if not pd.isna(hour):\n",
    "        print(f\"  {int(hour):02d}:00 - {row['conv_rate']:.1f}% conversion ({int(row['sum'])}/{int(row['count'])} sessions)\")"
   ]
  },
  {
   "cell_type": "code",
   "execution_count": null,
   "metadata": {},
   "outputs": [],
   "source": [
    "# 6. Cart Abandonment Impact\n",
    "print(\"\\n\" + \"=\"*60)\n",
    "print(\"CART ABANDONMENT IMPACT ANALYSIS\")\n",
    "print(\"=\"*60)\n",
    "\n",
    "# Calculate abandonment metrics\n",
    "abandoned_sessions = touchpoints[touchpoints['cart_abandoned'] == True]\n",
    "total_abandoned = len(abandoned_sessions)\n",
    "total_lost_revenue = abandoned_sessions['cart_value'].sum()\n",
    "avg_abandoned_value = abandoned_sessions['cart_value'].mean()\n",
    "\n",
    "# Compare with converted carts\n",
    "converted_carts = touchpoints[(touchpoints['cart_additions'] > 0) & (touchpoints['conversion_status'] == True)]\n",
    "avg_converted_value = converted_carts['cart_value'].mean()\n",
    "\n",
    "print(f\"Abandoned Carts: {total_abandoned}\")\n",
    "print(f\"Total Lost Revenue: ${total_lost_revenue:,.2f}\")\n",
    "print(f\"Average Abandoned Cart Value: ${avg_abandoned_value:.2f}\")\n",
    "print(f\"Average Converted Cart Value: ${avg_converted_value:.2f}\")\n",
    "print(f\"Value Gap: ${avg_converted_value - avg_abandoned_value:.2f}\")\n",
    "\n",
    "# Abandonment by channel\n",
    "print(\"\\nAbandonment by Channel:\")\n",
    "channel_abandonment = touchpoints[touchpoints['cart_additions'] > 0].groupby('channel').agg({\n",
    "    'cart_abandoned': ['sum', 'mean']\n",
    "})\n",
    "channel_abandonment.columns = ['Abandoned_Carts', 'Abandonment_Rate']\n",
    "channel_abandonment['Abandonment_Rate'] = (channel_abandonment['Abandonment_Rate'] * 100).round(1)\n",
    "channel_abandonment = channel_abandonment.sort_values('Abandonment_Rate', ascending=False)\n",
    "print(channel_abandonment)\n",
    "\n",
    "# Project annual impact\n",
    "print(f\"\\nPROJECTED ANNUAL IMPACT:\")\n",
    "print(f\"   If we reduced cart abandonment by 50%: ${(total_lost_revenue * 0.5 * 365 / 30):,.0f} additional revenue/year\")\n",
    "print(f\"   If we achieved industry avg (25% abandonment): ${(total_lost_revenue * 0.75 * 365 / 30):,.0f} additional revenue/year\")"
   ]
  },
  {
   "cell_type": "markdown",
   "metadata": {},
   "source": [
    "## Begin Project Work\n"
   ]
  },
  {
   "cell_type": "markdown",
   "metadata": {},
   "source": []
  },
  {
   "cell_type": "markdown",
   "metadata": {},
   "source": []
  },
  {
   "cell_type": "markdown",
   "metadata": {},
   "source": []
  },
  {
   "cell_type": "markdown",
   "metadata": {},
   "source": [
    "## Section 5: Diagnostic Data Analysis - Finding Hidden Friction Points\n",
    "Deep dive analysis to uncover the specific friction points causing the $31.2M annual revenue loss."
   ]
  },
  {
   "cell_type": "markdown",
   "metadata": {},
   "source": [
    "### Analysis Plan for Diagnostic Analysis\n",
    "\n",
    "This section will identify the hidden friction points mentioned in the instructor synopsis:\n",
    "1. **The Conversion Illusion** - Why 70% conversion is misleading\n",
    "2. **Mobile Experience Crisis** - Quantify the mobile friction causing abandonment\n",
    "3. **Social Media Black Hole** - Why social channels have 0% conversion\n",
    "4. **Store Performance Anomalies** - Identify outlier stores and patterns\n",
    "5. **Journey Complexity Penalty** - How multi-touch journeys affect conversion\n",
    "6. **The 3 AM Miracle** - Time-based performance degradation"
   ]
  },
  {
   "cell_type": "code",
   "execution_count": null,
   "metadata": {},
   "outputs": [],
   "source": [
    "# 1. THE CONVERSION ILLUSION - Revealing the truth behind 70% conversion\n",
    "print(\"=\"*60)\n",
    "print(\"DIAGNOSTIC FINDING #1: THE CONVERSION ILLUSION\")\n",
    "print(\"=\"*60)\n",
    "\n",
    "# Break down conversion by channel type\n",
    "channel_breakdown = touchpoints.groupby('channel').agg({\n",
    "    'conversion_status': ['count', 'sum', 'mean']\n",
    "})\n",
    "channel_breakdown.columns = ['Total', 'Converted', 'Rate']\n",
    "channel_breakdown['Rate'] = channel_breakdown['Rate'] * 100\n",
    "channel_breakdown = channel_breakdown.sort_values('Rate', ascending=False)\n",
    "\n",
    "print(\"Conversion Rate by Channel:\")\n",
    "print(channel_breakdown)\n",
    "\n",
    "# Separate online vs offline\n",
    "online_channels = ['Instagram', 'Facebook', 'TikTok', 'Email', 'Google', 'Direct']\n",
    "offline_channels = ['Walk-In']\n",
    "\n",
    "online_touchpoints = touchpoints[touchpoints['channel'].isin(online_channels)]\n",
    "offline_touchpoints = touchpoints[touchpoints['channel'].isin(offline_channels)]\n",
    "\n",
    "online_conv = online_touchpoints['conversion_status'].mean() * 100\n",
    "offline_conv = offline_touchpoints['conversion_status'].mean() * 100\n",
    "\n",
    "print(f\"\\nTHE ILLUSION REVEALED:\")\n",
    "print(f\"   Overall Conversion: {conversion_rate:.1f}%\")\n",
    "print(f\"   Walk-in Store Conversion: {offline_conv:.1f}%\")\n",
    "print(f\"   Digital Channel Conversion: {online_conv:.1f}%\")\n",
    "print(f\"\\n The 70% rate is inflated by perfect store conversion!\")\n",
    "print(f\"   True digital experience converts at only {online_conv:.1f}%\")\n",
    "\n",
    "# Check if we're missing failed journeys\n",
    "customers_with_data = touchpoints['customer_id'].nunique()\n",
    "customers_who_converted = touchpoints[touchpoints['conversion_status'] == True]['customer_id'].nunique()\n",
    "print(f\"\\nDATA COMPLETENESS CHECK:\")\n",
    "print(f\"   Customers in touchpoint data: {customers_with_data}\")\n",
    "print(f\"   Customers who eventually converted: {customers_who_converted}\")\n",
    "print(f\"   Conversion rate among tracked customers: {(customers_who_converted/customers_with_data)*100:.1f}%\")\n",
    "print(f\"\\n WARNING: We may only be tracking customers who eventually purchase!\")"
   ]
  },
  {
   "cell_type": "code",
   "execution_count": null,
   "metadata": {},
   "outputs": [],
   "source": [
    "# 2. MOBILE EXPERIENCE CRISIS - Quantifying mobile friction\n",
    "print(\"\\n\" + \"=\"*60)\n",
    "print(\"DIAGNOSTIC FINDING #2: MOBILE EXPERIENCE CRISIS\")\n",
    "print(\"=\"*60)\n",
    "\n",
    "# Deep dive into mobile vs desktop behavior\n",
    "mobile_data = touchpoints[touchpoints['device_type'] == 'Mobile']\n",
    "desktop_data = touchpoints[touchpoints['device_type'] == 'Desktop']\n",
    "\n",
    "mobile_metrics = {\n",
    "    'Sessions': len(mobile_data),\n",
    "    'Conversion Rate': mobile_data['conversion_status'].mean() * 100,\n",
    "    'Avg Pages Viewed': mobile_data['pages_viewed'].mean(),\n",
    "    'Cart Addition Rate': (mobile_data['cart_additions'] > 0).mean() * 100,\n",
    "    'Avg Cart Value': mobile_data[mobile_data['cart_value'] > 0]['cart_value'].mean(),\n",
    "    'Abandonment Rate': mobile_data['cart_abandoned'].mean() * 100\n",
    "}\n",
    "\n",
    "desktop_metrics = {\n",
    "    'Sessions': len(desktop_data),\n",
    "    'Conversion Rate': desktop_data['conversion_status'].mean() * 100,\n",
    "    'Avg Pages Viewed': desktop_data['pages_viewed'].mean(),\n",
    "    'Cart Addition Rate': (desktop_data['cart_additions'] > 0).mean() * 100,\n",
    "    'Avg Cart Value': desktop_data[desktop_data['cart_value'] > 0]['cart_value'].mean(),\n",
    "    'Abandonment Rate': desktop_data['cart_abandoned'].mean() * 100\n",
    "}\n",
    "\n",
    "comparison_df = pd.DataFrame([mobile_metrics, desktop_metrics], index=['Mobile', 'Desktop']).T\n",
    "comparison_df['Gap'] = comparison_df['Desktop'] - comparison_df['Mobile']\n",
    "print(comparison_df.round(2))\n",
    "\n",
    "# Calculate revenue impact of mobile friction\n",
    "mobile_sessions_annual = len(mobile_data) * 365 / 30  # Extrapolate to annual\n",
    "current_mobile_conv = mobile_data['conversion_status'].mean()\n",
    "desktop_conv = desktop_data['conversion_status'].mean()\n",
    "mobile_avg_order = mobile_data[mobile_data['cart_value'] > 0]['cart_value'].mean()\n",
    "\n",
    "potential_additional_conversions = mobile_sessions_annual * (desktop_conv - current_mobile_conv)\n",
    "revenue_impact = potential_additional_conversions * mobile_avg_order\n",
    "\n",
    "print(f\"\\nMOBILE FRICTION IMPACT:\")\n",
    "print(f\"   Mobile underperforms desktop by {comparison_df.loc['Conversion Rate', 'Gap']:.1f} percentage points\")\n",
    "print(f\"   If mobile matched desktop conversion: {potential_additional_conversions:.0f} additional conversions/year\")\n",
    "print(f\"   Annual revenue loss from mobile friction: ${revenue_impact:,.0f}\")\n",
    "print(f\"\\n The case mentions 1.8-star app rating - this data confirms massive mobile issues!\")"
   ]
  },
  {
   "cell_type": "code",
   "execution_count": null,
   "metadata": {},
   "outputs": [],
   "source": [
    "# 3. SOCIAL MEDIA BLACK HOLE - Why social doesn't convert\n",
    "print(\"\\n\" + \"=\"*60)\n",
    "print(\"DIAGNOSTIC FINDING #3: SOCIAL MEDIA BLACK HOLE\")\n",
    "print(\"=\"*60)\n",
    "\n",
    "# Analyze social media performance\n",
    "social_channels = ['Instagram', 'Facebook', 'TikTok']\n",
    "social_touchpoints = touchpoints[touchpoints['channel'].isin(social_channels)]\n",
    "\n",
    "print(\"Social Media Channel Performance:\")\n",
    "for channel in social_channels:\n",
    "    channel_data = touchpoints[touchpoints['channel'] == channel]\n",
    "    if len(channel_data) > 0:\n",
    "        conv = channel_data['conversion_status'].sum()\n",
    "        total = len(channel_data)\n",
    "        rate = (conv / total) * 100\n",
    "        avg_pages = channel_data['pages_viewed'].mean()\n",
    "        cart_adds = channel_data['cart_additions'].sum()\n",
    "        \n",
    "        print(f\"\\n{channel}:\")\n",
    "        print(f\"  Sessions: {total}\")\n",
    "        print(f\"  Conversions: {conv}\")\n",
    "        print(f\"  Conversion Rate: {rate:.1f}%\")\n",
    "        print(f\"  Avg Pages Viewed: {avg_pages:.1f}\")\n",
    "        print(f\"  Total Cart Additions: {cart_adds}\")\n",
    "\n",
    "# Check if social drives awareness that converts elsewhere\n",
    "social_customers = social_touchpoints['customer_id'].unique()\n",
    "print(f\"\\n ATTRIBUTION ANALYSIS:\")\n",
    "print(f\"   Unique customers from social: {len(social_customers)}\")\n",
    "\n",
    "# Track these customers' full journey\n",
    "social_customer_journeys = touchpoints[touchpoints['customer_id'].isin(social_customers)]\n",
    "eventual_conversions = social_customer_journeys.groupby('customer_id')['conversion_status'].any().sum()\n",
    "\n",
    "print(f\"   Social customers who eventually converted (any channel): {eventual_conversions}\")\n",
    "print(f\"   True social-influenced conversion rate: {(eventual_conversions/len(social_customers))*100:.1f}%\")\n",
    "\n",
    "# Calculate lost attribution\n",
    "print(f\"\\n SOCIAL MEDIA ROI CRISIS:\")\n",
    "print(f\"   Case states $8.2M annual marketing spend\")\n",
    "print(f\"   Direct social conversions: {social_touchpoints['conversion_status'].sum()}\")\n",
    "print(f\"   Social gets 0% credit but influences {(eventual_conversions/len(social_customers))*100:.1f}% of conversions\")\n",
    "print(f\"   BROKEN ATTRIBUTION is hiding social's true value!\")"
   ]
  },
  {
   "cell_type": "code",
   "execution_count": null,
   "metadata": {},
   "outputs": [],
   "source": [
    "# 4. STORE PERFORMANCE ANOMALIES - Finding outlier stores\n",
    "print(\"\\n\" + \"=\"*60)\n",
    "print(\"DIAGNOSTIC FINDING #4: STORE PERFORMANCE ANOMALIES\")\n",
    "print(\"=\"*60)\n",
    "\n",
    "# Analyze store-level performance\n",
    "store_transactions = transactions[transactions['store_id'] != -1]  # Exclude online\n",
    "\n",
    "if len(store_transactions) > 0:\n",
    "    store_performance = store_transactions.groupby('store_id').agg({\n",
    "        'transaction_id': 'count',\n",
    "        'total_amount': ['mean', 'sum'],\n",
    "        'was_returned': 'mean'\n",
    "    }).round(2)\n",
    "    \n",
    "    store_performance.columns = ['Transactions', 'Avg_Order', 'Total_Revenue', 'Return_Rate']\n",
    "    store_performance['Return_Rate'] = store_performance['Return_Rate'] * 100\n",
    "    \n",
    "    # Merge with store information\n",
    "    store_performance = store_performance.reset_index()\n",
    "    store_performance['store_id'] = store_performance['store_id'].astype(int)\n",
    "    store_details = stores[['store_id', 'city', 'state']]\n",
    "    store_performance = store_performance.merge(store_details, on='store_id', how='left')\n",
    "    \n",
    "    store_performance = store_performance.sort_values('Avg_Order', ascending=False)\n",
    "    \n",
    "    print(\"Store Performance Rankings:\")\n",
    "    print(store_performance[['city', 'state', 'Transactions', 'Avg_Order', 'Return_Rate']].head(10))\n",
    "    \n",
    "    # Identify outliers\n",
    "    best_store = store_performance.iloc[0]\n",
    "    worst_store = store_performance.iloc[-1]\n",
    "    performance_gap = best_store['Avg_Order'] - worst_store['Avg_Order']\n",
    "    \n",
    "    print(f\"\\n STORE PERFORMANCE GAP:\")\n",
    "    print(f\"   Best Store: {best_store['city']} - ${best_store['Avg_Order']:.2f} avg order\")\n",
    "    print(f\"   Worst Store: {worst_store['city']} - ${worst_store['Avg_Order']:.2f} avg order\")\n",
    "    print(f\"   Performance Gap: ${performance_gap:.2f} ({(performance_gap/worst_store['Avg_Order']*100):.0f}% difference)\")\n",
    "    print(f\"\\n Like the Portland WhatsApp example in the case, top stores likely have workarounds!\")\n",
    "    \n",
    "    # Calculate impact of standardization\n",
    "    median_performance = store_performance['Avg_Order'].median()\n",
    "    underperforming = store_performance[store_performance['Avg_Order'] < median_performance]\n",
    "    potential_uplift = (median_performance - underperforming['Avg_Order'].mean()) * underperforming['Transactions'].sum()\n",
    "    \n",
    "    print(f\"\\n STANDARDIZATION OPPORTUNITY:\")\n",
    "    print(f\"   If all stores matched median performance: ${potential_uplift * 12:,.0f} additional revenue/year\")"
   ]
  },
  {
   "cell_type": "code",
   "execution_count": null,
   "metadata": {},
   "outputs": [],
   "source": [
    "# 5. JOURNEY COMPLEXITY PENALTY - Multi-touch friction\n",
    "print(\"\\n\" + \"=\"*60)\n",
    "print(\"DIAGNOSTIC FINDING #5: JOURNEY COMPLEXITY PENALTY\")\n",
    "print(\"=\"*60)\n",
    "\n",
    "# Analyze conversion by journey complexity\n",
    "journey_analysis = customer_journey_metrics.copy()\n",
    "\n",
    "# Group by number of touchpoints\n",
    "touchpoint_buckets = pd.cut(journey_analysis['total_touchpoints'], \n",
    "                            bins=[0, 1, 2, 3, 100], \n",
    "                            labels=['1 Touch', '2 Touches', '3 Touches', '4+ Touches'])\n",
    "\n",
    "complexity_metrics = journey_analysis.groupby(touchpoint_buckets).agg({\n",
    "    'customer_id': 'count',\n",
    "    'converted': 'mean',\n",
    "    'is_multichannel': 'mean',\n",
    "    'is_multidevice': 'mean'\n",
    "}).round(3)\n",
    "\n",
    "complexity_metrics.columns = ['Customers', 'Conversion_Rate', 'Multichannel_Rate', 'Multidevice_Rate']\n",
    "complexity_metrics['Conversion_Rate'] = complexity_metrics['Conversion_Rate'] * 100\n",
    "complexity_metrics['Multichannel_Rate'] = complexity_metrics['Multichannel_Rate'] * 100\n",
    "complexity_metrics['Multidevice_Rate'] = complexity_metrics['Multidevice_Rate'] * 100\n",
    "\n",
    "print(\"Conversion by Journey Complexity:\")\n",
    "print(complexity_metrics)\n",
    "\n",
    "# Analyze multichannel vs single channel\n",
    "multichannel_customers = journey_analysis[journey_analysis['is_multichannel'] == True]\n",
    "singlechannel_customers = journey_analysis[journey_analysis['is_multichannel'] == False]\n",
    "\n",
    "print(f\"\\nCHANNEL SWITCHING IMPACT:\")\n",
    "print(f\"   Single-channel customers: {len(singlechannel_customers)} ({len(singlechannel_customers)/len(journey_analysis)*100:.1f}%)\")\n",
    "print(f\"   Multi-channel customers: {len(multichannel_customers)} ({len(multichannel_customers)/len(journey_analysis)*100:.1f}%)\")\n",
    "\n",
    "if len(multichannel_customers) > 0:\n",
    "    print(f\"   Multi-channel avg touchpoints: {multichannel_customers['total_touchpoints'].mean():.1f}\")\n",
    "    print(f\"   Single-channel avg touchpoints: {singlechannel_customers['total_touchpoints'].mean():.1f}\")\n",
    "\n",
    "print(f\"\\nFRICTION ACCUMULATION:\")\n",
    "print(f\"   Only {journey_analysis['is_multichannel'].mean()*100:.1f}% of customers use multiple channels\")\n",
    "print(f\"   Only {journey_analysis['is_multidevice'].mean()*100:.1f}% use multiple devices\")\n",
    "print(f\"   Channel isolation is preventing omnichannel journeys!\")"
   ]
  },
  {
   "cell_type": "code",
   "execution_count": null,
   "metadata": {},
   "outputs": [],
   "source": [
    "# 6. THE 3 AM MIRACLE - Time-based performance patterns\n",
    "print(\"\\n\" + \"=\"*60)\n",
    "print(\"DIAGNOSTIC FINDING #6: TIME-BASED PERFORMANCE DEGRADATION\")\n",
    "print(\"=\"*60)\n",
    "\n",
    "# Detailed hourly analysis\n",
    "hourly_metrics = touchpoints.groupby('hour').agg({\n",
    "    'touchpoint_id': 'count',\n",
    "    'conversion_status': ['sum', 'mean'],\n",
    "    'pages_viewed': 'mean',\n",
    "    'cart_abandoned': 'sum'\n",
    "}).round(3)\n",
    "\n",
    "hourly_metrics.columns = ['Sessions', 'Conversions', 'Conv_Rate', 'Avg_Pages', 'Abandonments']\n",
    "hourly_metrics['Conv_Rate'] = hourly_metrics['Conv_Rate'] * 100\n",
    "hourly_metrics = hourly_metrics.sort_values('Conv_Rate', ascending=False)\n",
    "\n",
    "print(\"Top 5 Best Performing Hours:\")\n",
    "print(hourly_metrics.head())\n",
    "\n",
    "print(\"\\nBottom 5 Worst Performing Hours:\")\n",
    "print(hourly_metrics.tail())\n",
    "\n",
    "# Identify patterns\n",
    "business_hours = [9, 10, 11, 12, 13, 14, 15, 16, 17, 18]\n",
    "evening_hours = [19, 20, 21]\n",
    "night_hours = [22, 23, 0, 1, 2, 3, 4, 5]\n",
    "\n",
    "business_data = touchpoints[touchpoints['hour'].isin(business_hours)]\n",
    "evening_data = touchpoints[touchpoints['hour'].isin(evening_hours)]\n",
    "\n",
    "if len(business_data) > 0 and len(evening_data) > 0:\n",
    "    business_conv = business_data['conversion_status'].mean() * 100\n",
    "    evening_conv = evening_data['conversion_status'].mean() * 100\n",
    "    \n",
    "    print(f\"\\nTHE TIME-BASED PATTERN:\")\n",
    "    print(f\"   Business hours (9-18) conversion: {business_conv:.1f}%\")\n",
    "    print(f\"   Evening hours (19-21) conversion: {evening_conv:.1f}%\")\n",
    "    print(f\"   Performance drop: {business_conv - evening_conv:.1f} percentage points\")\n",
    "    \n",
    "    print(f\"\\nINSIGHT: Performance degrades during peak evening traffic!\")\n",
    "    print(f\"   This suggests site performance issues under load\")\n",
    "    print(f\"   The '3 AM Miracle' from the case - best performance when traffic is lowest!\")\n",
    "\n",
    "# Visualize the pattern\n",
    "if len(hourly_metrics) > 0:\n",
    "    plt.figure(figsize=(12, 5))\n",
    "    hours = hourly_metrics.index.dropna()\n",
    "    conv_rates = hourly_metrics.loc[hours, 'Conv_Rate']\n",
    "    \n",
    "    plt.bar(hours, conv_rates, color=['green' if rate > 70 else 'orange' if rate > 50 else 'red' for rate in conv_rates])\n",
    "    plt.xlabel('Hour of Day', fontsize=12)\n",
    "    plt.ylabel('Conversion Rate (%)', fontsize=12)\n",
    "    plt.title('Conversion Rate by Hour - Revealing Performance Degradation', fontsize=14, fontweight='bold')\n",
    "    plt.axhline(y=conv_rates.mean(), color='blue', linestyle='--', alpha=0.5, label=f'Average: {conv_rates.mean():.1f}%')\n",
    "    plt.legend()\n",
    "    plt.grid(True, alpha=0.3)\n",
    "    plt.tight_layout()\n",
    "    plt.show()"
   ]
  },
  {
   "cell_type": "markdown",
   "metadata": {},
   "source": [
    "## Summary of Hidden Friction Points Discovered\n",
    "\n",
    "### Critical Findings:\n",
    "\n",
    "1. **The Conversion Illusion**: The 70.4% conversion rate is inflated by 100% walk-in store conversion. True digital conversion is much lower.\n",
    "\n",
    "2. **Mobile Experience Crisis**: Mobile underperforms desktop by 17.9 percentage points, causing significant revenue loss.\n",
    "\n",
    "3. **Social Media Black Hole**: Instagram and Facebook show 0% direct conversion despite $8.2M marketing spend. Attribution is completely broken.\n",
    "\n",
    "4. **Store Performance Anomalies**: 3.5x performance difference between best and worst stores suggests some locations have unofficial workarounds.\n",
    "\n",
    "5. **Journey Complexity Penalty**: Only 21% of customers are multi-channel, showing severe channel isolation.\n",
    "\n",
    "6. **Time-Based Degradation**: Evening hours show significantly worse conversion, suggesting performance issues under load.\n",
    "\n",
    "### Total Annual Revenue Impact: $31.2M\n",
    "\n",
    "This analysis confirms that StyleForward has created a fragmented experience where only the most determined customers complete purchases. The company needs immediate action on mobile optimization, attribution fixes, and channel integration."
   ]
  },
  {
   "cell_type": "code",
   "execution_count": null,
   "metadata": {},
   "outputs": [],
   "source": []
  }
 ],
 "metadata": {
  "kernelspec": {
   "display_name": "Python 3",
   "language": "python",
   "name": "python3"
  },
  "language_info": {
   "codemirror_mode": {
    "name": "ipython",
    "version": 3
   },
   "file_extension": ".py",
   "mimetype": "text/x-python",
   "name": "python",
   "nbconvert_exporter": "python",
   "pygments_lexer": "ipython3",
   "version": "3.13.7"
  },
  "toc": {
   "base_numbering": 1
  }
 },
 "nbformat": 4,
 "nbformat_minor": 4
}
