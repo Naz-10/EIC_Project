{
 "cells": [
  {
   "cell_type": "markdown",
   "id": "f9ee9a8f",
   "metadata": {},
   "source": [
    "See python-snowflake handout for details.\n",
    "\n",
    "What you will need to do:\n",
    "\n",
    "In Snowflake:\n",
    "- Collect the account information, warehouse name, database name, etc (See Snowflake connection info below)\n",
    "- Temporarily disable MFA if it is enabled\n",
    "- Make sure you know the number of rows and the total for a numeric column for testing.\n",
    "\n",
    "In VSC:\n",
    "- Create a new file to hold the environment variables (the snowflake data above)\n",
    "\n",
    "In python notebook:\n",
    "- Install the snowflake-connector\n",
    "- Run the code"
   ]
  },
  {
   "cell_type": "markdown",
   "id": "45affb96-5b49-4e7a-91ef-41e0f72af6eb",
   "metadata": {},
   "source": [
    "# Snowflake Connection\n",
    "\n",
    "- SNOWFLAKE_ACCOUNT=your_account_identifier\n",
    "- SNOWFLAKE_USER=your_username\n",
    "- SNOWFLAKE_PASSWORD=your_password\n",
    "- SNOWFLAKE_WAREHOUSE=your_warehouse_name\n",
    "- SNOWFLAKE_DATABASE=your_database_name\n",
    "- SNOWFLAKE_SCHEMA=your_schema_name\n",
    "- SNOWFLAKE_ROLE=your_role_name"
   ]
  },
  {
   "cell_type": "code",
   "execution_count": null,
   "id": "acd3af7c-e663-45ef-95cd-46d8cf5dc4d4",
   "metadata": {},
   "outputs": [],
   "source": [
    "#%pip install snowflake-connector-python"
   ]
  },
  {
   "cell_type": "code",
   "execution_count": null,
   "id": "bb7b5e47-d7db-4726-8cd3-02b28927fa0a",
   "metadata": {},
   "outputs": [],
   "source": [
    "import snowflake.connector\n",
    "#from dotenv import load_dotenv\n",
    "#import os\n"
   ]
  },
  {
   "cell_type": "code",
   "execution_count": 7,
   "id": "81d95624-8c24-439d-8e9c-52aa677aae9e",
   "metadata": {},
   "outputs": [
    {
     "name": "stdout",
     "output_type": "stream",
     "text": [
      "(253,)\n"
     ]
    }
   ],
   "source": [
    "\n",
    "\n",
    "# Load environment variables from .env file\n",
    "#load_dotenv()\n",
    "\n",
    "# Retrieve values\n",
    "#user = os.getenv(\"SNOWFLAKE_USER\")\n",
    "#password = os.getenv(\"SNOWFLAKE_PASSWORD\")\n",
    "#account = os.getenv(\"SNOWFLAKE_ACCOUNT\")\n",
    "#warehouse = os.getenv(\"SNOWFLAKE_WAREHOUSE\")\n",
    "#database = os.getenv(\"SNOWFLAKE_DATABASE\")\n",
    "#schema = os.getenv(\"SNOWFLAKE_SCHEMA\")\n",
    "#role = os.getenv(\"SNOWFLAKE_ROLE\")\n",
    "\n",
    "user = SNOWFLAKE_USER\n",
    "password = SNOWFLAKE_PASSWORD\n",
    "account = SNOWFLAKE_ACCOUNT\n",
    "warehouse = SNOWFLAKE_WAREHOUSE\n",
    "database = SNOWFLAKE_DATABASE\n",
    "schema = SNOWFLAKE_SCHEMA\n",
    "role = SNOWFLAKE_ROLE\n",
    "\n",
    "conn = snowflake.connector.connect(\n",
    "    user=user,\n",
    "    password=password,\n",
    "    account=account,\n",
    "    warehouse=warehouse,\n",
    "    database=database,\n",
    "    schema=schema,\n",
    "    role=role,\n",
    ")\n",
    "\n",
    "# Create a cursor object\n",
    "cur = conn.cursor()\n",
    "\n",
    "# Execute a query\n",
    "cur.execute(\"SELECT count(*) from orders\")\n",
    "\n",
    "# Fetch result\n",
    "print(cur.fetchone())\n",
    "\n",
    "# Clean up\n",
    "cur.close()\n",
    "conn.close()"
   ]
  }
 ],
 "metadata": {
  "kernelspec": {
   "display_name": "Python 3",
   "language": "python",
   "name": "python3"
  },
  "language_info": {
   "codemirror_mode": {
    "name": "ipython",
    "version": 3
   },
   "file_extension": ".py",
   "mimetype": "text/x-python",
   "name": "python",
   "nbconvert_exporter": "python",
   "pygments_lexer": "ipython3",
   "version": "3.13.5"
  }
 },
 "nbformat": 4,
 "nbformat_minor": 5
}
